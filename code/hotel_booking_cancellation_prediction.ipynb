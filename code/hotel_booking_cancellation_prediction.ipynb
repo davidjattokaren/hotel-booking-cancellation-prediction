{
 "cells": [
  {
   "cell_type": "markdown",
   "id": "0406f29f",
   "metadata": {},
   "source": [
    "# 1. Problem Background and Motivation <a class=\"anchor\" id=\"problem-background\"></a>\n",
    "\n",
    "<img src='' width=\"700\" />\n",
    "\n",
    "### Problem Description\n",
    ">- A large chain of international hotels would like to leverage machine learning to be able to accurately predict booking cancellations. Currently, cancellations come in randomly and lead to loss of revenue due to unoccupied rooms.\n",
    "\n",
    "### Key Stakeholders\n",
    ">- Hotel Managers - The manager of the hotel can use the data and model output to be able to set up a process that can monetize rooms that are likely to have their bookings cancelled.\n",
    "\n",
    ">- Cluster Head - Cluster / Region heads of the hotel chain can use the information to be able to set up a wider strategy for their cluster in terms of dealing with cancellations."
   ]
  },
  {
   "cell_type": "markdown",
   "id": "5d68920c",
   "metadata": {},
   "source": [
    "# 2. Libraries & Custom Functions <a class=\"anchor\" id=\"import-packages\"></a>"
   ]
  },
  {
   "cell_type": "markdown",
   "id": "ef0ecd39",
   "metadata": {},
   "source": [
    "##### Libraries Import:\n",
    ">- Pandas for data processing and transformation. Numpy for numerical functions\n",
    ">- Seaborn, Matplotlib for visual representations of data / function outputs\n",
    ">- (Sklearn) Train_Test_Split to split our data into randomized train and test dataframes.\n",
    ">- (Sklearn) LogisticRegression to implement a logistic regression model\n",
    ">- (Sklearn) KNeighborsClassifier to implement a KNN classification model\n",
    ">- (Sklearn) DecisionTreeClassifier to implement a Decision Tree\n",
    ">- (Sklearn) MLPClassifier to implement a MLP Classifier\n",
    ">- (Sklearn) RandomForestClassifier to implement a Random Forest Classifier\n",
    ">- (Sklearn) Metrics to measure classification performance\n",
    "\n",
    "##### Custom Functions:\n",
    ">- Class_Perf_Measures - a function that takes the model object, X_test (which contains the test data predictor variables), Y_test (which contains the test data target variable) to calculate and display performance measures such as recall, precision, and confusion matrix metrics."
   ]
  },
  {
   "cell_type": "code",
   "execution_count": 1,
   "id": "a7e1469a",
   "metadata": {},
   "outputs": [],
   "source": [
    "import numpy as np\n",
    "import pandas as pd\n",
    "import seaborn as sns\n",
    "import matplotlib.pyplot as plt\n",
    "import time\n",
    "\n",
    "from sklearn.preprocessing import LabelEncoder, StandardScaler, MinMaxScaler\n",
    "from sklearn.preprocessing import binarize\n",
    "from sklearn.model_selection import train_test_split, cross_val_score, GridSearchCV\n",
    "from sklearn.feature_selection import SelectFromModel, SelectPercentile\n",
    "from sklearn.metrics import f1_score, confusion_matrix\n",
    "from sklearn import metrics\n",
    "\n",
    "from sklearn.linear_model import LogisticRegression, RidgeClassifier, SGDClassifier\n",
    "from sklearn.svm import LinearSVC\n",
    "from sklearn.tree import DecisionTreeClassifier\n",
    "from sklearn import tree\n",
    "from sklearn.ensemble import RandomForestClassifier, GradientBoostingClassifier, AdaBoostClassifier\n",
    "from sklearn.neighbors import KNeighborsClassifier\n",
    "from sklearn.neural_network import MLPClassifier\n",
    "from sklearn.naive_bayes import GaussianNB\n",
    "\n",
    "pd.set_option('display.max_columns', None)\n",
    "\n",
    "\n",
    "# Custom function below is used to display performance measures\n",
    "# Required inputs are the model name and the two test data objects (X,y)\n",
    "def class_perf_measures(model,X_test,y_test):\n",
    "    # Create empty lists to store metric values created within loop\n",
    "    TP = []\n",
    "    TN = []\n",
    "    FP = []\n",
    "    FN = []\n",
    "    recall = []\n",
    "    precision = []\n",
    "    F1 = []\n",
    "    Accuracy = []\n",
    "    \n",
    "    # Create list of probability threshold values to loop over\n",
    "    threshold = np.arange(0,1.1,0.1).tolist()\n",
    "\n",
    "    # Start loop\n",
    "    for i in threshold:\n",
    "\n",
    "        # Create class assignments given threshold value\n",
    "        y_test_pred_class = (model.predict_proba(X_test)[:,1] >= i).astype(int)\n",
    "\n",
    "        # Append lists with metric values\n",
    "        TP.append(metrics.confusion_matrix(y_test, y_test_pred_class)[1,1])\n",
    "        TN.append(metrics.confusion_matrix(y_test, y_test_pred_class)[0,0])\n",
    "        FP.append(metrics.confusion_matrix(y_test, y_test_pred_class)[0,1])\n",
    "        FN.append(metrics.confusion_matrix(y_test, y_test_pred_class)[1,0])\n",
    "        recall.append(metrics.recall_score(y_test, y_test_pred_class).round(3))\n",
    "        precision.append(metrics.precision_score(y_test, y_test_pred_class).round(3))\n",
    "        F1.append(metrics.f1_score(y_test, y_test_pred_class).round(2))\n",
    "        Accuracy.append(metrics.accuracy_score(y_test, y_test_pred_class).round(2))\n",
    "\n",
    "    # Create dataframe\n",
    "    result = pd.DataFrame({\"threshold\":threshold,\n",
    "                           \"TP\":TP,\n",
    "                           \"TN\":TN,\n",
    "                           \"FP\":FP,\n",
    "                           \"FN\":FN,\n",
    "                           \"Precision\":precision,\n",
    "                           \"Recall\":recall,\n",
    "                           \"F1\":F1,\n",
    "                           \"Accuracy\": Accuracy\n",
    "                          })\n",
    "\n",
    "    # Let's look at our dataframe\n",
    "    return result"
   ]
  },
  {
   "cell_type": "markdown",
   "id": "1dea84bb",
   "metadata": {},
   "source": [
    "# Data Source Identification and Access\n",
    "\n",
    "Here, we connect to the data source that contains the information we need to begin solving this business problem. In this particular case, the data has been provided to us via a CSV file."
   ]
  },
  {
   "cell_type": "code",
   "execution_count": 2,
   "id": "780b41e9",
   "metadata": {},
   "outputs": [],
   "source": [
    "df = pd.read_csv(\"hotel_bookings.csv\") # Reading the data"
   ]
  },
  {
   "cell_type": "markdown",
   "id": "ca124978",
   "metadata": {},
   "source": [
    "# Exploratory Data Analysis\n",
    "\n",
    "After storing the data into a dataframe, the first step is to analyze it to understand:\n",
    "\n",
    "- What does the data represent? \n",
    "- What might be the target variable? (If not already specified by the business)\n",
    "- What steps do we need to take to get the data ready for modeling?\n",
    "- What are the right features that we need to choose for the purpose of predicting the target variable?\n",
    "\n",
    "**Steps:**\n",
    "- [x] Data Exploration\n",
    "- [x] Data Cleaning\n",
    "- [x] Data Deep Dive - Numeric (Summary Stats, Outlier Treatment, Feature Transformation, Feature Selection)\n",
    "- [x] Data Deep Dive - Categorical (Summary Stats, Outlier Treatment, Feature Transformation, Feature Selection)\n",
    "- [x] Selection of Train & Test Data"
   ]
  },
  {
   "cell_type": "markdown",
   "id": "1d0e2f61",
   "metadata": {},
   "source": [
    "><h3>Data Exploration </h3>\n",
    "First, we load the data and look at a few sample rows (first 5, last 5). We note down any data observations that may require a further deep-dive. Next, we summarize the data to gain more understanding of each column -  we check data types, number of NULLs, and summary statistics (such as mean, median, standard deviation, etc.). We may also try to identify a potential target variable (if not already specified by the business) at this point."
   ]
  },
  {
   "cell_type": "code",
   "execution_count": 3,
   "id": "b5cdfb8f",
   "metadata": {},
   "outputs": [
    {
     "data": {
      "text/html": [
       "<div>\n",
       "<style scoped>\n",
       "    .dataframe tbody tr th:only-of-type {\n",
       "        vertical-align: middle;\n",
       "    }\n",
       "\n",
       "    .dataframe tbody tr th {\n",
       "        vertical-align: top;\n",
       "    }\n",
       "\n",
       "    .dataframe thead th {\n",
       "        text-align: right;\n",
       "    }\n",
       "</style>\n",
       "<table border=\"1\" class=\"dataframe\">\n",
       "  <thead>\n",
       "    <tr style=\"text-align: right;\">\n",
       "      <th></th>\n",
       "      <th>hotel</th>\n",
       "      <th>is_canceled</th>\n",
       "      <th>lead_time</th>\n",
       "      <th>arrival_date_year</th>\n",
       "      <th>arrival_date_month</th>\n",
       "      <th>arrival_date_week_number</th>\n",
       "      <th>arrival_date_day_of_month</th>\n",
       "      <th>stays_in_weekend_nights</th>\n",
       "      <th>stays_in_week_nights</th>\n",
       "      <th>adults</th>\n",
       "      <th>children</th>\n",
       "      <th>babies</th>\n",
       "      <th>meal</th>\n",
       "      <th>country</th>\n",
       "      <th>market_segment</th>\n",
       "      <th>distribution_channel</th>\n",
       "      <th>is_repeated_guest</th>\n",
       "      <th>previous_cancellations</th>\n",
       "      <th>previous_bookings_not_canceled</th>\n",
       "      <th>reserved_room_type</th>\n",
       "      <th>assigned_room_type</th>\n",
       "      <th>booking_changes</th>\n",
       "      <th>deposit_type</th>\n",
       "      <th>agent</th>\n",
       "      <th>company</th>\n",
       "      <th>days_in_waiting_list</th>\n",
       "      <th>customer_type</th>\n",
       "      <th>adr</th>\n",
       "      <th>required_car_parking_spaces</th>\n",
       "      <th>total_of_special_requests</th>\n",
       "    </tr>\n",
       "  </thead>\n",
       "  <tbody>\n",
       "    <tr>\n",
       "      <th>119385</th>\n",
       "      <td>City Hotel</td>\n",
       "      <td>0</td>\n",
       "      <td>23</td>\n",
       "      <td>2017</td>\n",
       "      <td>August</td>\n",
       "      <td>35</td>\n",
       "      <td>30</td>\n",
       "      <td>2</td>\n",
       "      <td>5</td>\n",
       "      <td>2</td>\n",
       "      <td>0.0</td>\n",
       "      <td>0</td>\n",
       "      <td>BB</td>\n",
       "      <td>BEL</td>\n",
       "      <td>Offline TA/TO</td>\n",
       "      <td>TA/TO</td>\n",
       "      <td>0</td>\n",
       "      <td>0</td>\n",
       "      <td>0</td>\n",
       "      <td>A</td>\n",
       "      <td>A</td>\n",
       "      <td>0</td>\n",
       "      <td>No Deposit</td>\n",
       "      <td>394.0</td>\n",
       "      <td>NaN</td>\n",
       "      <td>0</td>\n",
       "      <td>Transient</td>\n",
       "      <td>96.14</td>\n",
       "      <td>0</td>\n",
       "      <td>0</td>\n",
       "    </tr>\n",
       "    <tr>\n",
       "      <th>119386</th>\n",
       "      <td>City Hotel</td>\n",
       "      <td>0</td>\n",
       "      <td>102</td>\n",
       "      <td>2017</td>\n",
       "      <td>August</td>\n",
       "      <td>35</td>\n",
       "      <td>31</td>\n",
       "      <td>2</td>\n",
       "      <td>5</td>\n",
       "      <td>3</td>\n",
       "      <td>0.0</td>\n",
       "      <td>0</td>\n",
       "      <td>BB</td>\n",
       "      <td>FRA</td>\n",
       "      <td>Online TA</td>\n",
       "      <td>TA/TO</td>\n",
       "      <td>0</td>\n",
       "      <td>0</td>\n",
       "      <td>0</td>\n",
       "      <td>E</td>\n",
       "      <td>E</td>\n",
       "      <td>0</td>\n",
       "      <td>No Deposit</td>\n",
       "      <td>9.0</td>\n",
       "      <td>NaN</td>\n",
       "      <td>0</td>\n",
       "      <td>Transient</td>\n",
       "      <td>225.43</td>\n",
       "      <td>0</td>\n",
       "      <td>2</td>\n",
       "    </tr>\n",
       "    <tr>\n",
       "      <th>119387</th>\n",
       "      <td>City Hotel</td>\n",
       "      <td>0</td>\n",
       "      <td>34</td>\n",
       "      <td>2017</td>\n",
       "      <td>August</td>\n",
       "      <td>35</td>\n",
       "      <td>31</td>\n",
       "      <td>2</td>\n",
       "      <td>5</td>\n",
       "      <td>2</td>\n",
       "      <td>0.0</td>\n",
       "      <td>0</td>\n",
       "      <td>BB</td>\n",
       "      <td>DEU</td>\n",
       "      <td>Online TA</td>\n",
       "      <td>TA/TO</td>\n",
       "      <td>0</td>\n",
       "      <td>0</td>\n",
       "      <td>0</td>\n",
       "      <td>D</td>\n",
       "      <td>D</td>\n",
       "      <td>0</td>\n",
       "      <td>No Deposit</td>\n",
       "      <td>9.0</td>\n",
       "      <td>NaN</td>\n",
       "      <td>0</td>\n",
       "      <td>Transient</td>\n",
       "      <td>157.71</td>\n",
       "      <td>0</td>\n",
       "      <td>4</td>\n",
       "    </tr>\n",
       "    <tr>\n",
       "      <th>119388</th>\n",
       "      <td>City Hotel</td>\n",
       "      <td>0</td>\n",
       "      <td>109</td>\n",
       "      <td>2017</td>\n",
       "      <td>August</td>\n",
       "      <td>35</td>\n",
       "      <td>31</td>\n",
       "      <td>2</td>\n",
       "      <td>5</td>\n",
       "      <td>2</td>\n",
       "      <td>0.0</td>\n",
       "      <td>0</td>\n",
       "      <td>BB</td>\n",
       "      <td>GBR</td>\n",
       "      <td>Online TA</td>\n",
       "      <td>TA/TO</td>\n",
       "      <td>0</td>\n",
       "      <td>0</td>\n",
       "      <td>0</td>\n",
       "      <td>A</td>\n",
       "      <td>A</td>\n",
       "      <td>0</td>\n",
       "      <td>No Deposit</td>\n",
       "      <td>89.0</td>\n",
       "      <td>NaN</td>\n",
       "      <td>0</td>\n",
       "      <td>Transient</td>\n",
       "      <td>104.40</td>\n",
       "      <td>0</td>\n",
       "      <td>0</td>\n",
       "    </tr>\n",
       "    <tr>\n",
       "      <th>119389</th>\n",
       "      <td>City Hotel</td>\n",
       "      <td>0</td>\n",
       "      <td>205</td>\n",
       "      <td>2017</td>\n",
       "      <td>August</td>\n",
       "      <td>35</td>\n",
       "      <td>29</td>\n",
       "      <td>2</td>\n",
       "      <td>7</td>\n",
       "      <td>2</td>\n",
       "      <td>0.0</td>\n",
       "      <td>0</td>\n",
       "      <td>HB</td>\n",
       "      <td>DEU</td>\n",
       "      <td>Online TA</td>\n",
       "      <td>TA/TO</td>\n",
       "      <td>0</td>\n",
       "      <td>0</td>\n",
       "      <td>0</td>\n",
       "      <td>A</td>\n",
       "      <td>A</td>\n",
       "      <td>0</td>\n",
       "      <td>No Deposit</td>\n",
       "      <td>9.0</td>\n",
       "      <td>NaN</td>\n",
       "      <td>0</td>\n",
       "      <td>Transient</td>\n",
       "      <td>151.20</td>\n",
       "      <td>0</td>\n",
       "      <td>2</td>\n",
       "    </tr>\n",
       "  </tbody>\n",
       "</table>\n",
       "</div>"
      ],
      "text/plain": [
       "             hotel  is_canceled  lead_time  arrival_date_year  \\\n",
       "119385  City Hotel            0         23               2017   \n",
       "119386  City Hotel            0        102               2017   \n",
       "119387  City Hotel            0         34               2017   \n",
       "119388  City Hotel            0        109               2017   \n",
       "119389  City Hotel            0        205               2017   \n",
       "\n",
       "       arrival_date_month  arrival_date_week_number  \\\n",
       "119385             August                        35   \n",
       "119386             August                        35   \n",
       "119387             August                        35   \n",
       "119388             August                        35   \n",
       "119389             August                        35   \n",
       "\n",
       "        arrival_date_day_of_month  stays_in_weekend_nights  \\\n",
       "119385                         30                        2   \n",
       "119386                         31                        2   \n",
       "119387                         31                        2   \n",
       "119388                         31                        2   \n",
       "119389                         29                        2   \n",
       "\n",
       "        stays_in_week_nights  adults  children  babies meal country  \\\n",
       "119385                     5       2       0.0       0   BB     BEL   \n",
       "119386                     5       3       0.0       0   BB     FRA   \n",
       "119387                     5       2       0.0       0   BB     DEU   \n",
       "119388                     5       2       0.0       0   BB     GBR   \n",
       "119389                     7       2       0.0       0   HB     DEU   \n",
       "\n",
       "       market_segment distribution_channel  is_repeated_guest  \\\n",
       "119385  Offline TA/TO                TA/TO                  0   \n",
       "119386      Online TA                TA/TO                  0   \n",
       "119387      Online TA                TA/TO                  0   \n",
       "119388      Online TA                TA/TO                  0   \n",
       "119389      Online TA                TA/TO                  0   \n",
       "\n",
       "        previous_cancellations  previous_bookings_not_canceled  \\\n",
       "119385                       0                               0   \n",
       "119386                       0                               0   \n",
       "119387                       0                               0   \n",
       "119388                       0                               0   \n",
       "119389                       0                               0   \n",
       "\n",
       "       reserved_room_type assigned_room_type  booking_changes deposit_type  \\\n",
       "119385                  A                  A                0   No Deposit   \n",
       "119386                  E                  E                0   No Deposit   \n",
       "119387                  D                  D                0   No Deposit   \n",
       "119388                  A                  A                0   No Deposit   \n",
       "119389                  A                  A                0   No Deposit   \n",
       "\n",
       "        agent  company  days_in_waiting_list customer_type     adr  \\\n",
       "119385  394.0      NaN                     0     Transient   96.14   \n",
       "119386    9.0      NaN                     0     Transient  225.43   \n",
       "119387    9.0      NaN                     0     Transient  157.71   \n",
       "119388   89.0      NaN                     0     Transient  104.40   \n",
       "119389    9.0      NaN                     0     Transient  151.20   \n",
       "\n",
       "        required_car_parking_spaces  total_of_special_requests  \n",
       "119385                            0                          0  \n",
       "119386                            0                          2  \n",
       "119387                            0                          4  \n",
       "119388                            0                          0  \n",
       "119389                            0                          2  "
      ]
     },
     "execution_count": 3,
     "metadata": {},
     "output_type": "execute_result"
    }
   ],
   "source": [
    "df.tail() #Looking at the last 5 rows of the data, just to get a high level understanding of our data"
   ]
  },
  {
   "cell_type": "code",
   "execution_count": 4,
   "id": "9fb5ae14",
   "metadata": {},
   "outputs": [
    {
     "name": "stdout",
     "output_type": "stream",
     "text": [
      "<class 'pandas.core.frame.DataFrame'>\n",
      "RangeIndex: 119390 entries, 0 to 119389\n",
      "Data columns (total 30 columns):\n",
      " #   Column                          Non-Null Count   Dtype  \n",
      "---  ------                          --------------   -----  \n",
      " 0   hotel                           119390 non-null  object \n",
      " 1   is_canceled                     119390 non-null  int64  \n",
      " 2   lead_time                       119390 non-null  int64  \n",
      " 3   arrival_date_year               119390 non-null  int64  \n",
      " 4   arrival_date_month              119390 non-null  object \n",
      " 5   arrival_date_week_number        119390 non-null  int64  \n",
      " 6   arrival_date_day_of_month       119390 non-null  int64  \n",
      " 7   stays_in_weekend_nights         119390 non-null  int64  \n",
      " 8   stays_in_week_nights            119390 non-null  int64  \n",
      " 9   adults                          119390 non-null  int64  \n",
      " 10  children                        119386 non-null  float64\n",
      " 11  babies                          119390 non-null  int64  \n",
      " 12  meal                            119390 non-null  object \n",
      " 13  country                         118902 non-null  object \n",
      " 14  market_segment                  119390 non-null  object \n",
      " 15  distribution_channel            119390 non-null  object \n",
      " 16  is_repeated_guest               119390 non-null  int64  \n",
      " 17  previous_cancellations          119390 non-null  int64  \n",
      " 18  previous_bookings_not_canceled  119390 non-null  int64  \n",
      " 19  reserved_room_type              119390 non-null  object \n",
      " 20  assigned_room_type              119390 non-null  object \n",
      " 21  booking_changes                 119390 non-null  int64  \n",
      " 22  deposit_type                    119390 non-null  object \n",
      " 23  agent                           103050 non-null  float64\n",
      " 24  company                         6797 non-null    float64\n",
      " 25  days_in_waiting_list            119390 non-null  int64  \n",
      " 26  customer_type                   119390 non-null  object \n",
      " 27  adr                             119390 non-null  float64\n",
      " 28  required_car_parking_spaces     119390 non-null  int64  \n",
      " 29  total_of_special_requests       119390 non-null  int64  \n",
      "dtypes: float64(4), int64(16), object(10)\n",
      "memory usage: 27.3+ MB\n"
     ]
    }
   ],
   "source": [
    "df.info() #Used to understand the data types for each column available in our data"
   ]
  },
  {
   "cell_type": "markdown",
   "id": "079d9397",
   "metadata": {},
   "source": [
    "#### Data types:\n",
    "\n",
    "- Categorical - hotel, is_canceled, customer_type, is_repeated_guest, meal, country, market_segment, distribution_channel, reserved_room_type, assigned_room_type, deposit_type, agent, company\n",
    "\n",
    "\n",
    "- Numerical - lead_time, stays_in_weekend_nights, stays_in_week_nights, adults, children, babies, previous_cancellations, booking_changes, previous_bookings_not_canceled, days_in_waiting_list, adr, required_car_parking_spaces, total_of_special_requests\n",
    "\n",
    "\n",
    "- Ordinal - arrival_date_year, arrival_date_month, arrival_date_week_number, arrival_date_day_of_month\n",
    "\n",
    "\n",
    "- Missing values:\n",
    "\n",
    "    - country\n",
    "    - agent\n",
    "    - company"
   ]
  },
  {
   "cell_type": "code",
   "execution_count": 5,
   "id": "fe7c3d8f",
   "metadata": {},
   "outputs": [
    {
     "data": {
      "text/html": [
       "<div>\n",
       "<style scoped>\n",
       "    .dataframe tbody tr th:only-of-type {\n",
       "        vertical-align: middle;\n",
       "    }\n",
       "\n",
       "    .dataframe tbody tr th {\n",
       "        vertical-align: top;\n",
       "    }\n",
       "\n",
       "    .dataframe thead th {\n",
       "        text-align: right;\n",
       "    }\n",
       "</style>\n",
       "<table border=\"1\" class=\"dataframe\">\n",
       "  <thead>\n",
       "    <tr style=\"text-align: right;\">\n",
       "      <th></th>\n",
       "      <th>count</th>\n",
       "      <th>mean</th>\n",
       "      <th>std</th>\n",
       "      <th>min</th>\n",
       "      <th>25%</th>\n",
       "      <th>50%</th>\n",
       "      <th>75%</th>\n",
       "      <th>max</th>\n",
       "    </tr>\n",
       "  </thead>\n",
       "  <tbody>\n",
       "    <tr>\n",
       "      <th>is_canceled</th>\n",
       "      <td>119390.0</td>\n",
       "      <td>0.370416</td>\n",
       "      <td>0.482918</td>\n",
       "      <td>0.00</td>\n",
       "      <td>0.00</td>\n",
       "      <td>0.000</td>\n",
       "      <td>1.0</td>\n",
       "      <td>1.0</td>\n",
       "    </tr>\n",
       "    <tr>\n",
       "      <th>lead_time</th>\n",
       "      <td>119390.0</td>\n",
       "      <td>104.011416</td>\n",
       "      <td>106.863097</td>\n",
       "      <td>0.00</td>\n",
       "      <td>18.00</td>\n",
       "      <td>69.000</td>\n",
       "      <td>160.0</td>\n",
       "      <td>737.0</td>\n",
       "    </tr>\n",
       "    <tr>\n",
       "      <th>arrival_date_year</th>\n",
       "      <td>119390.0</td>\n",
       "      <td>2016.156554</td>\n",
       "      <td>0.707476</td>\n",
       "      <td>2015.00</td>\n",
       "      <td>2016.00</td>\n",
       "      <td>2016.000</td>\n",
       "      <td>2017.0</td>\n",
       "      <td>2017.0</td>\n",
       "    </tr>\n",
       "    <tr>\n",
       "      <th>arrival_date_week_number</th>\n",
       "      <td>119390.0</td>\n",
       "      <td>27.165173</td>\n",
       "      <td>13.605138</td>\n",
       "      <td>1.00</td>\n",
       "      <td>16.00</td>\n",
       "      <td>28.000</td>\n",
       "      <td>38.0</td>\n",
       "      <td>53.0</td>\n",
       "    </tr>\n",
       "    <tr>\n",
       "      <th>arrival_date_day_of_month</th>\n",
       "      <td>119390.0</td>\n",
       "      <td>15.798241</td>\n",
       "      <td>8.780829</td>\n",
       "      <td>1.00</td>\n",
       "      <td>8.00</td>\n",
       "      <td>16.000</td>\n",
       "      <td>23.0</td>\n",
       "      <td>31.0</td>\n",
       "    </tr>\n",
       "    <tr>\n",
       "      <th>stays_in_weekend_nights</th>\n",
       "      <td>119390.0</td>\n",
       "      <td>0.927599</td>\n",
       "      <td>0.998613</td>\n",
       "      <td>0.00</td>\n",
       "      <td>0.00</td>\n",
       "      <td>1.000</td>\n",
       "      <td>2.0</td>\n",
       "      <td>19.0</td>\n",
       "    </tr>\n",
       "    <tr>\n",
       "      <th>stays_in_week_nights</th>\n",
       "      <td>119390.0</td>\n",
       "      <td>2.500302</td>\n",
       "      <td>1.908286</td>\n",
       "      <td>0.00</td>\n",
       "      <td>1.00</td>\n",
       "      <td>2.000</td>\n",
       "      <td>3.0</td>\n",
       "      <td>50.0</td>\n",
       "    </tr>\n",
       "    <tr>\n",
       "      <th>adults</th>\n",
       "      <td>119390.0</td>\n",
       "      <td>1.856403</td>\n",
       "      <td>0.579261</td>\n",
       "      <td>0.00</td>\n",
       "      <td>2.00</td>\n",
       "      <td>2.000</td>\n",
       "      <td>2.0</td>\n",
       "      <td>55.0</td>\n",
       "    </tr>\n",
       "    <tr>\n",
       "      <th>children</th>\n",
       "      <td>119386.0</td>\n",
       "      <td>0.103890</td>\n",
       "      <td>0.398561</td>\n",
       "      <td>0.00</td>\n",
       "      <td>0.00</td>\n",
       "      <td>0.000</td>\n",
       "      <td>0.0</td>\n",
       "      <td>10.0</td>\n",
       "    </tr>\n",
       "    <tr>\n",
       "      <th>babies</th>\n",
       "      <td>119390.0</td>\n",
       "      <td>0.007949</td>\n",
       "      <td>0.097436</td>\n",
       "      <td>0.00</td>\n",
       "      <td>0.00</td>\n",
       "      <td>0.000</td>\n",
       "      <td>0.0</td>\n",
       "      <td>10.0</td>\n",
       "    </tr>\n",
       "    <tr>\n",
       "      <th>is_repeated_guest</th>\n",
       "      <td>119390.0</td>\n",
       "      <td>0.031912</td>\n",
       "      <td>0.175767</td>\n",
       "      <td>0.00</td>\n",
       "      <td>0.00</td>\n",
       "      <td>0.000</td>\n",
       "      <td>0.0</td>\n",
       "      <td>1.0</td>\n",
       "    </tr>\n",
       "    <tr>\n",
       "      <th>previous_cancellations</th>\n",
       "      <td>119390.0</td>\n",
       "      <td>0.087118</td>\n",
       "      <td>0.844336</td>\n",
       "      <td>0.00</td>\n",
       "      <td>0.00</td>\n",
       "      <td>0.000</td>\n",
       "      <td>0.0</td>\n",
       "      <td>26.0</td>\n",
       "    </tr>\n",
       "    <tr>\n",
       "      <th>previous_bookings_not_canceled</th>\n",
       "      <td>119390.0</td>\n",
       "      <td>0.137097</td>\n",
       "      <td>1.497437</td>\n",
       "      <td>0.00</td>\n",
       "      <td>0.00</td>\n",
       "      <td>0.000</td>\n",
       "      <td>0.0</td>\n",
       "      <td>72.0</td>\n",
       "    </tr>\n",
       "    <tr>\n",
       "      <th>booking_changes</th>\n",
       "      <td>119390.0</td>\n",
       "      <td>0.221124</td>\n",
       "      <td>0.652306</td>\n",
       "      <td>0.00</td>\n",
       "      <td>0.00</td>\n",
       "      <td>0.000</td>\n",
       "      <td>0.0</td>\n",
       "      <td>21.0</td>\n",
       "    </tr>\n",
       "    <tr>\n",
       "      <th>agent</th>\n",
       "      <td>103050.0</td>\n",
       "      <td>86.693382</td>\n",
       "      <td>110.774548</td>\n",
       "      <td>1.00</td>\n",
       "      <td>9.00</td>\n",
       "      <td>14.000</td>\n",
       "      <td>229.0</td>\n",
       "      <td>535.0</td>\n",
       "    </tr>\n",
       "    <tr>\n",
       "      <th>company</th>\n",
       "      <td>6797.0</td>\n",
       "      <td>189.266735</td>\n",
       "      <td>131.655015</td>\n",
       "      <td>6.00</td>\n",
       "      <td>62.00</td>\n",
       "      <td>179.000</td>\n",
       "      <td>270.0</td>\n",
       "      <td>543.0</td>\n",
       "    </tr>\n",
       "    <tr>\n",
       "      <th>days_in_waiting_list</th>\n",
       "      <td>119390.0</td>\n",
       "      <td>2.321149</td>\n",
       "      <td>17.594721</td>\n",
       "      <td>0.00</td>\n",
       "      <td>0.00</td>\n",
       "      <td>0.000</td>\n",
       "      <td>0.0</td>\n",
       "      <td>391.0</td>\n",
       "    </tr>\n",
       "    <tr>\n",
       "      <th>adr</th>\n",
       "      <td>119390.0</td>\n",
       "      <td>101.831122</td>\n",
       "      <td>50.535790</td>\n",
       "      <td>-6.38</td>\n",
       "      <td>69.29</td>\n",
       "      <td>94.575</td>\n",
       "      <td>126.0</td>\n",
       "      <td>5400.0</td>\n",
       "    </tr>\n",
       "    <tr>\n",
       "      <th>required_car_parking_spaces</th>\n",
       "      <td>119390.0</td>\n",
       "      <td>0.062518</td>\n",
       "      <td>0.245291</td>\n",
       "      <td>0.00</td>\n",
       "      <td>0.00</td>\n",
       "      <td>0.000</td>\n",
       "      <td>0.0</td>\n",
       "      <td>8.0</td>\n",
       "    </tr>\n",
       "    <tr>\n",
       "      <th>total_of_special_requests</th>\n",
       "      <td>119390.0</td>\n",
       "      <td>0.571363</td>\n",
       "      <td>0.792798</td>\n",
       "      <td>0.00</td>\n",
       "      <td>0.00</td>\n",
       "      <td>0.000</td>\n",
       "      <td>1.0</td>\n",
       "      <td>5.0</td>\n",
       "    </tr>\n",
       "  </tbody>\n",
       "</table>\n",
       "</div>"
      ],
      "text/plain": [
       "                                   count         mean         std      min  \\\n",
       "is_canceled                     119390.0     0.370416    0.482918     0.00   \n",
       "lead_time                       119390.0   104.011416  106.863097     0.00   \n",
       "arrival_date_year               119390.0  2016.156554    0.707476  2015.00   \n",
       "arrival_date_week_number        119390.0    27.165173   13.605138     1.00   \n",
       "arrival_date_day_of_month       119390.0    15.798241    8.780829     1.00   \n",
       "stays_in_weekend_nights         119390.0     0.927599    0.998613     0.00   \n",
       "stays_in_week_nights            119390.0     2.500302    1.908286     0.00   \n",
       "adults                          119390.0     1.856403    0.579261     0.00   \n",
       "children                        119386.0     0.103890    0.398561     0.00   \n",
       "babies                          119390.0     0.007949    0.097436     0.00   \n",
       "is_repeated_guest               119390.0     0.031912    0.175767     0.00   \n",
       "previous_cancellations          119390.0     0.087118    0.844336     0.00   \n",
       "previous_bookings_not_canceled  119390.0     0.137097    1.497437     0.00   \n",
       "booking_changes                 119390.0     0.221124    0.652306     0.00   \n",
       "agent                           103050.0    86.693382  110.774548     1.00   \n",
       "company                           6797.0   189.266735  131.655015     6.00   \n",
       "days_in_waiting_list            119390.0     2.321149   17.594721     0.00   \n",
       "adr                             119390.0   101.831122   50.535790    -6.38   \n",
       "required_car_parking_spaces     119390.0     0.062518    0.245291     0.00   \n",
       "total_of_special_requests       119390.0     0.571363    0.792798     0.00   \n",
       "\n",
       "                                    25%       50%     75%     max  \n",
       "is_canceled                        0.00     0.000     1.0     1.0  \n",
       "lead_time                         18.00    69.000   160.0   737.0  \n",
       "arrival_date_year               2016.00  2016.000  2017.0  2017.0  \n",
       "arrival_date_week_number          16.00    28.000    38.0    53.0  \n",
       "arrival_date_day_of_month          8.00    16.000    23.0    31.0  \n",
       "stays_in_weekend_nights            0.00     1.000     2.0    19.0  \n",
       "stays_in_week_nights               1.00     2.000     3.0    50.0  \n",
       "adults                             2.00     2.000     2.0    55.0  \n",
       "children                           0.00     0.000     0.0    10.0  \n",
       "babies                             0.00     0.000     0.0    10.0  \n",
       "is_repeated_guest                  0.00     0.000     0.0     1.0  \n",
       "previous_cancellations             0.00     0.000     0.0    26.0  \n",
       "previous_bookings_not_canceled     0.00     0.000     0.0    72.0  \n",
       "booking_changes                    0.00     0.000     0.0    21.0  \n",
       "agent                              9.00    14.000   229.0   535.0  \n",
       "company                           62.00   179.000   270.0   543.0  \n",
       "days_in_waiting_list               0.00     0.000     0.0   391.0  \n",
       "adr                               69.29    94.575   126.0  5400.0  \n",
       "required_car_parking_spaces        0.00     0.000     0.0     8.0  \n",
       "total_of_special_requests          0.00     0.000     1.0     5.0  "
      ]
     },
     "execution_count": 5,
     "metadata": {},
     "output_type": "execute_result"
    }
   ],
   "source": [
    "df.describe().T"
   ]
  },
  {
   "cell_type": "markdown",
   "id": "ea1d9643",
   "metadata": {},
   "source": [
    "#### Observations:\n",
    "- There are 119390 records available in our data.\n",
    "- Is_Canceled is the target variable (this has been provided as a requirement)\n",
    "- An interesting observation: Variables such as children, babies, previous_cancellations, previous_bookings_not_canceled, days_in_waiting_list, and required_car_parking_spaces show very little variation (their min, 25%, 50%, and 75% quartiles are all 0). This may indicate that they may not be very powerful when predicted is_canceled.\n",
    "\n",
    "- Arrival_date_year / week_number / day_of_month are too granular to be used in a prediction model. However Arrival month may be a good indicator (one can expect that during certain months there may be cancellations, however we can't expect this for certain weeks or days. Plus, considering that this model is to be applied in the \"present year\", having arrival year as a predictor would not be helpful.\n",
    "\n",
    "Before moving onto specific data cleaning steps by data type, first we need to take care of the missing values in our data."
   ]
  },
  {
   "cell_type": "markdown",
   "id": "0088a5c6",
   "metadata": {},
   "source": [
    "><h3>Data Cleaning </h3>\n",
    "Once we have a general understanding of the data, next we focus on improving the quality. The first step is to look for those columns which have missing values. Once we identify this we can start analyzing each column to see what the appropriate remedial measures are (dropping the row, dropping the column, and/or imputing values with a reasonable subsitute)"
   ]
  },
  {
   "cell_type": "code",
   "execution_count": 6,
   "id": "7a8f9b12",
   "metadata": {},
   "outputs": [
    {
     "name": "stdout",
     "output_type": "stream",
     "text": [
      "Number of records: 119390\n",
      "Number of records after dropping dupes: 119390\n"
     ]
    },
    {
     "data": {
      "text/plain": [
       "hotel                                  0\n",
       "is_canceled                            0\n",
       "lead_time                              0\n",
       "arrival_date_year                      0\n",
       "arrival_date_month                     0\n",
       "arrival_date_week_number               0\n",
       "arrival_date_day_of_month              0\n",
       "stays_in_weekend_nights                0\n",
       "stays_in_week_nights                   0\n",
       "adults                                 0\n",
       "children                               4\n",
       "babies                                 0\n",
       "meal                                   0\n",
       "country                              488\n",
       "market_segment                         0\n",
       "distribution_channel                   0\n",
       "is_repeated_guest                      0\n",
       "previous_cancellations                 0\n",
       "previous_bookings_not_canceled         0\n",
       "reserved_room_type                     0\n",
       "assigned_room_type                     0\n",
       "booking_changes                        0\n",
       "deposit_type                           0\n",
       "agent                              16340\n",
       "company                           112593\n",
       "days_in_waiting_list                   0\n",
       "customer_type                          0\n",
       "adr                                    0\n",
       "required_car_parking_spaces            0\n",
       "total_of_special_requests              0\n",
       "dtype: int64"
      ]
     },
     "execution_count": 6,
     "metadata": {},
     "output_type": "execute_result"
    }
   ],
   "source": [
    "# remove any dupes\n",
    "print('Number of records:', len(df))\n",
    "df.drop_duplicates()\n",
    "print('Number of records after dropping dupes:', len(df))\n",
    "\n",
    "df.isnull().sum() #Used to find out the number of null / missing values in each column of the data"
   ]
  },
  {
   "cell_type": "markdown",
   "id": "19377e19",
   "metadata": {},
   "source": [
    "The company column has most of the data missing. It is better to drop this column.\n",
    "\n",
    "For children - a reasonable replacement value can be 0 (a missing value indicates no children)\n",
    "\n",
    "For agent - a NULL value indicates that the booking was made directly with the hotel. Hence this is not a cause for concern. We can fill the NAs with 0 (after checking to ensure that 0 does not already exist)\n",
    "\n",
    "For country - it may be inappropriate to predict whether a booking would be canceled or not based on country of origin. This column will be dropped for now.\n",
    "\n",
    "We also drop arrival year, week number, day of month for the reasons specified earlier"
   ]
  },
  {
   "cell_type": "markdown",
   "id": "3da7d2ab",
   "metadata": {},
   "source": [
    "><h3>Data Cleaning - Missing Values </h3>\n",
    "We deep dive into the columns that have missing values (Children, Agent). We also drop the columns as mentioned in the previous section.\n",
    "The aim is to treat all missing values, either by deleting rows or imputing appropriate values"
   ]
  },
  {
   "cell_type": "code",
   "execution_count": 7,
   "id": "6614d335",
   "metadata": {},
   "outputs": [],
   "source": [
    "df = df.drop(columns=['company', 'country', 'arrival_date_year', 'arrival_date_week_number', 'arrival_date_day_of_month'])\n",
    "\n",
    "df['children'] = df['children'].fillna(0)\n",
    "\n",
    "0 in df.agent.unique()\n",
    "\n",
    "df['agent'] = df['agent'].fillna(0)"
   ]
  },
  {
   "cell_type": "code",
   "execution_count": 8,
   "id": "da992432",
   "metadata": {},
   "outputs": [
    {
     "data": {
      "text/plain": [
       "hotel                             0\n",
       "is_canceled                       0\n",
       "lead_time                         0\n",
       "arrival_date_month                0\n",
       "stays_in_weekend_nights           0\n",
       "stays_in_week_nights              0\n",
       "adults                            0\n",
       "children                          0\n",
       "babies                            0\n",
       "meal                              0\n",
       "market_segment                    0\n",
       "distribution_channel              0\n",
       "is_repeated_guest                 0\n",
       "previous_cancellations            0\n",
       "previous_bookings_not_canceled    0\n",
       "reserved_room_type                0\n",
       "assigned_room_type                0\n",
       "booking_changes                   0\n",
       "deposit_type                      0\n",
       "agent                             0\n",
       "days_in_waiting_list              0\n",
       "customer_type                     0\n",
       "adr                               0\n",
       "required_car_parking_spaces       0\n",
       "total_of_special_requests         0\n",
       "dtype: int64"
      ]
     },
     "execution_count": 8,
     "metadata": {},
     "output_type": "execute_result"
    }
   ],
   "source": [
    "df.isnull().sum() #Used to find out the number of null / missing values in each column of the data"
   ]
  },
  {
   "cell_type": "markdown",
   "id": "3c75d6ae",
   "metadata": {},
   "source": [
    "Missing values are no longer present in our data.\n",
    "\n",
    "#### Initial Hypotheses:\n",
    "\n",
    "I believe that the following variables would be the best predictors of whether a booking would be canceled or not:\n",
    "\n",
    "- Hotel (City Hotels would be more likely to be canceled than Resort Hotels. Since Resort hotels usually are accompanied with a wider holiday plan, customers are less likely to cancel their stay)\n",
    "\n",
    "- Lead Time (The higher the lead time, the more likely it is for cancellation. The probability of plans changing is higher when there are more days left to the actual arrival date)\n",
    "\n",
    "- Is Repeated Guest (If a guest is a repeat guest, it is less likely that they will cancel)\n",
    "\n",
    "- I would like to create a new variables to better represent previous cancellations & previous bookings not cancelled. Both of these variables can be represented using a new variable - cancellation rate (cancellations / (not cancelled + cancelled)). The hypothesis here is that a higher cancellation rate would be indicative of higher likelihood of cancelling. This single variable also represents 2 variables (High cancellation rate = more cancellations, less not cancelled, Low cancellation rate = less cancellations, more not cancelled).\n",
    "\n",
    "- Deposit Type (If no deposit was made, there is a higher chance of cancellation)\n",
    "\n",
    "- Days in waiting list (higher days in waiting list, higher chance of cancellation)\n",
    "\n",
    "- ADR (higher ADR indicates less chance of cancellation)"
   ]
  },
  {
   "cell_type": "code",
   "execution_count": 9,
   "id": "350d1970",
   "metadata": {},
   "outputs": [],
   "source": [
    "df['cancellation_rate'] = df['previous_cancellations'] / (df['previous_cancellations'] + df['previous_bookings_not_canceled'])\n",
    "df['cancellation_rate'] = df.cancellation_rate.fillna(0) # If it is NA then it indicates 0 cancellations and 0 previous bookings not cancelled."
   ]
  },
  {
   "cell_type": "markdown",
   "id": "978b6b27",
   "metadata": {},
   "source": [
    "Cancellation rate has been created above. This variable represents both previous cancellations and previous bookings not canceled."
   ]
  },
  {
   "cell_type": "markdown",
   "id": "6e17cf22",
   "metadata": {},
   "source": [
    "><h3>Data Deep Dive - Numeric</h3>\n",
    "Here, we first convert mis-classified data into numeric to ensure that all numeric columns have been correctly identified as numeric by pandas. Next, we check the summary statistics of data for any indications of outliers. We additionally plot a histogram, boxplot, and scatterplot as well to confirm the findings and identify any relationships between the target and any of the independent variables. Once the columns with outliers are established, we deep dive into them to understand the number of outlier rows, and the appropriate treatment method. Once this is complete and our numeric data is ready, we create a correlation matrix to identify correlated features and redundant features."
   ]
  },
  {
   "cell_type": "code",
   "execution_count": 10,
   "id": "2cdc466a",
   "metadata": {},
   "outputs": [
    {
     "data": {
      "text/plain": [
       "hotel                              object\n",
       "is_canceled                         int64\n",
       "lead_time                           int64\n",
       "arrival_date_month                 object\n",
       "stays_in_weekend_nights             int64\n",
       "stays_in_week_nights                int64\n",
       "adults                              int64\n",
       "children                          float64\n",
       "babies                              int64\n",
       "meal                               object\n",
       "market_segment                     object\n",
       "distribution_channel               object\n",
       "is_repeated_guest                   int64\n",
       "previous_cancellations              int64\n",
       "previous_bookings_not_canceled      int64\n",
       "reserved_room_type                 object\n",
       "assigned_room_type                 object\n",
       "booking_changes                     int64\n",
       "deposit_type                       object\n",
       "agent                             float64\n",
       "days_in_waiting_list                int64\n",
       "customer_type                      object\n",
       "adr                               float64\n",
       "required_car_parking_spaces         int64\n",
       "total_of_special_requests           int64\n",
       "cancellation_rate                 float64\n",
       "dtype: object"
      ]
     },
     "execution_count": 10,
     "metadata": {},
     "output_type": "execute_result"
    }
   ],
   "source": [
    "df.dtypes"
   ]
  },
  {
   "cell_type": "markdown",
   "id": "d06eb21a",
   "metadata": {},
   "source": [
    "is_repeated_guest, and agent should be an object (categorical) variable. Children should be int.\n",
    "The rest of the variables have the correct data types."
   ]
  },
  {
   "cell_type": "code",
   "execution_count": 11,
   "id": "9eb88674",
   "metadata": {},
   "outputs": [],
   "source": [
    "df['is_repeated_guest'] = df['is_repeated_guest'].astype(object)\n",
    "df['children'] = df['children'].astype(int)\n",
    "#df['is_canceled'] = df['is_canceled'].astype(object)\n",
    "df['agent'] = df['agent'].astype(int)\n",
    "df['agent'] = df['agent'].astype(object)"
   ]
  },
  {
   "cell_type": "code",
   "execution_count": 12,
   "id": "90ad9931",
   "metadata": {},
   "outputs": [
    {
     "data": {
      "text/html": [
       "<div>\n",
       "<style scoped>\n",
       "    .dataframe tbody tr th:only-of-type {\n",
       "        vertical-align: middle;\n",
       "    }\n",
       "\n",
       "    .dataframe tbody tr th {\n",
       "        vertical-align: top;\n",
       "    }\n",
       "\n",
       "    .dataframe thead th {\n",
       "        text-align: right;\n",
       "    }\n",
       "</style>\n",
       "<table border=\"1\" class=\"dataframe\">\n",
       "  <thead>\n",
       "    <tr style=\"text-align: right;\">\n",
       "      <th></th>\n",
       "      <th>mean</th>\n",
       "      <th>median</th>\n",
       "      <th>std_dev</th>\n",
       "      <th>min_val</th>\n",
       "      <th>max_val</th>\n",
       "      <th>missing_vals</th>\n",
       "    </tr>\n",
       "  </thead>\n",
       "  <tbody>\n",
       "    <tr>\n",
       "      <th>is_canceled</th>\n",
       "      <td>0.37</td>\n",
       "      <td>0.00</td>\n",
       "      <td>0.48</td>\n",
       "      <td>0.00</td>\n",
       "      <td>1.0</td>\n",
       "      <td>0</td>\n",
       "    </tr>\n",
       "    <tr>\n",
       "      <th>lead_time</th>\n",
       "      <td>104.01</td>\n",
       "      <td>69.00</td>\n",
       "      <td>106.86</td>\n",
       "      <td>0.00</td>\n",
       "      <td>737.0</td>\n",
       "      <td>0</td>\n",
       "    </tr>\n",
       "    <tr>\n",
       "      <th>stays_in_weekend_nights</th>\n",
       "      <td>0.93</td>\n",
       "      <td>1.00</td>\n",
       "      <td>1.00</td>\n",
       "      <td>0.00</td>\n",
       "      <td>19.0</td>\n",
       "      <td>0</td>\n",
       "    </tr>\n",
       "    <tr>\n",
       "      <th>stays_in_week_nights</th>\n",
       "      <td>2.50</td>\n",
       "      <td>2.00</td>\n",
       "      <td>1.91</td>\n",
       "      <td>0.00</td>\n",
       "      <td>50.0</td>\n",
       "      <td>0</td>\n",
       "    </tr>\n",
       "    <tr>\n",
       "      <th>adults</th>\n",
       "      <td>1.86</td>\n",
       "      <td>2.00</td>\n",
       "      <td>0.58</td>\n",
       "      <td>0.00</td>\n",
       "      <td>55.0</td>\n",
       "      <td>0</td>\n",
       "    </tr>\n",
       "    <tr>\n",
       "      <th>children</th>\n",
       "      <td>0.10</td>\n",
       "      <td>0.00</td>\n",
       "      <td>0.40</td>\n",
       "      <td>0.00</td>\n",
       "      <td>10.0</td>\n",
       "      <td>0</td>\n",
       "    </tr>\n",
       "    <tr>\n",
       "      <th>babies</th>\n",
       "      <td>0.01</td>\n",
       "      <td>0.00</td>\n",
       "      <td>0.10</td>\n",
       "      <td>0.00</td>\n",
       "      <td>10.0</td>\n",
       "      <td>0</td>\n",
       "    </tr>\n",
       "    <tr>\n",
       "      <th>previous_cancellations</th>\n",
       "      <td>0.09</td>\n",
       "      <td>0.00</td>\n",
       "      <td>0.84</td>\n",
       "      <td>0.00</td>\n",
       "      <td>26.0</td>\n",
       "      <td>0</td>\n",
       "    </tr>\n",
       "    <tr>\n",
       "      <th>previous_bookings_not_canceled</th>\n",
       "      <td>0.14</td>\n",
       "      <td>0.00</td>\n",
       "      <td>1.50</td>\n",
       "      <td>0.00</td>\n",
       "      <td>72.0</td>\n",
       "      <td>0</td>\n",
       "    </tr>\n",
       "    <tr>\n",
       "      <th>booking_changes</th>\n",
       "      <td>0.22</td>\n",
       "      <td>0.00</td>\n",
       "      <td>0.65</td>\n",
       "      <td>0.00</td>\n",
       "      <td>21.0</td>\n",
       "      <td>0</td>\n",
       "    </tr>\n",
       "    <tr>\n",
       "      <th>days_in_waiting_list</th>\n",
       "      <td>2.32</td>\n",
       "      <td>0.00</td>\n",
       "      <td>17.59</td>\n",
       "      <td>0.00</td>\n",
       "      <td>391.0</td>\n",
       "      <td>0</td>\n",
       "    </tr>\n",
       "    <tr>\n",
       "      <th>adr</th>\n",
       "      <td>101.83</td>\n",
       "      <td>94.58</td>\n",
       "      <td>50.54</td>\n",
       "      <td>-6.38</td>\n",
       "      <td>5400.0</td>\n",
       "      <td>0</td>\n",
       "    </tr>\n",
       "    <tr>\n",
       "      <th>required_car_parking_spaces</th>\n",
       "      <td>0.06</td>\n",
       "      <td>0.00</td>\n",
       "      <td>0.25</td>\n",
       "      <td>0.00</td>\n",
       "      <td>8.0</td>\n",
       "      <td>0</td>\n",
       "    </tr>\n",
       "    <tr>\n",
       "      <th>total_of_special_requests</th>\n",
       "      <td>0.57</td>\n",
       "      <td>0.00</td>\n",
       "      <td>0.79</td>\n",
       "      <td>0.00</td>\n",
       "      <td>5.0</td>\n",
       "      <td>0</td>\n",
       "    </tr>\n",
       "    <tr>\n",
       "      <th>cancellation_rate</th>\n",
       "      <td>0.05</td>\n",
       "      <td>0.00</td>\n",
       "      <td>0.22</td>\n",
       "      <td>0.00</td>\n",
       "      <td>1.0</td>\n",
       "      <td>0</td>\n",
       "    </tr>\n",
       "  </tbody>\n",
       "</table>\n",
       "</div>"
      ],
      "text/plain": [
       "                                  mean  median  std_dev  min_val  max_val  \\\n",
       "is_canceled                       0.37    0.00     0.48     0.00      1.0   \n",
       "lead_time                       104.01   69.00   106.86     0.00    737.0   \n",
       "stays_in_weekend_nights           0.93    1.00     1.00     0.00     19.0   \n",
       "stays_in_week_nights              2.50    2.00     1.91     0.00     50.0   \n",
       "adults                            1.86    2.00     0.58     0.00     55.0   \n",
       "children                          0.10    0.00     0.40     0.00     10.0   \n",
       "babies                            0.01    0.00     0.10     0.00     10.0   \n",
       "previous_cancellations            0.09    0.00     0.84     0.00     26.0   \n",
       "previous_bookings_not_canceled    0.14    0.00     1.50     0.00     72.0   \n",
       "booking_changes                   0.22    0.00     0.65     0.00     21.0   \n",
       "days_in_waiting_list              2.32    0.00    17.59     0.00    391.0   \n",
       "adr                             101.83   94.58    50.54    -6.38   5400.0   \n",
       "required_car_parking_spaces       0.06    0.00     0.25     0.00      8.0   \n",
       "total_of_special_requests         0.57    0.00     0.79     0.00      5.0   \n",
       "cancellation_rate                 0.05    0.00     0.22     0.00      1.0   \n",
       "\n",
       "                                missing_vals  \n",
       "is_canceled                                0  \n",
       "lead_time                                  0  \n",
       "stays_in_weekend_nights                    0  \n",
       "stays_in_week_nights                       0  \n",
       "adults                                     0  \n",
       "children                                   0  \n",
       "babies                                     0  \n",
       "previous_cancellations                     0  \n",
       "previous_bookings_not_canceled             0  \n",
       "booking_changes                            0  \n",
       "days_in_waiting_list                       0  \n",
       "adr                                        0  \n",
       "required_car_parking_spaces                0  \n",
       "total_of_special_requests                  0  \n",
       "cancellation_rate                          0  "
      ]
     },
     "execution_count": 12,
     "metadata": {},
     "output_type": "execute_result"
    }
   ],
   "source": [
    "numerics = ['int16', 'int32', 'int64', 'float16', 'float32', 'float64']\n",
    "\n",
    "df_temp = df.select_dtypes(include=numerics)\n",
    "\n",
    "pd.DataFrame(dict(mean = df_temp.mean().round(2),\n",
    "                  median = df_temp.median().round(2),\n",
    "                  std_dev = df_temp.std().round(2),\n",
    "                  min_val = df_temp.min().round(2),\n",
    "                  max_val = df_temp.max().round(2),\n",
    "                  missing_vals = df_temp.isnull().sum()\n",
    "                  \n",
    "                 ))"
   ]
  },
  {
   "cell_type": "markdown",
   "id": "f87bdce1",
   "metadata": {},
   "source": [
    "#### High Level Outlier Detection Observations:\n",
    "\n",
    "- We observe that lead time has a high standard deviation, and it's mean is somewhat higher than it's median. This column may have outliers that we need to investigate.\n",
    "\n",
    "- Days in waiting list also displays this pattern. It seems that this column very rarely has values in it, and may not be very useful for prediction purposes.\n",
    "\n",
    "- ADR also has a high standard deviation."
   ]
  },
  {
   "cell_type": "code",
   "execution_count": 13,
   "id": "3251d7b0",
   "metadata": {},
   "outputs": [
    {
     "data": {
      "text/plain": [
       "<AxesSubplot:xlabel='lead_time', ylabel='Count'>"
      ]
     },
     "execution_count": 13,
     "metadata": {},
     "output_type": "execute_result"
    },
    {
     "data": {
      "image/png": "[encoded data removed]",
      "text/plain": [
       "<Figure size 432x288 with 1 Axes>"
      ]
     },
     "metadata": {
      "needs_background": "light"
     },
     "output_type": "display_data"
    }
   ],
   "source": [
    "sns.histplot(df['lead_time'])"
   ]
  },
  {
   "cell_type": "markdown",
   "id": "56efa01c",
   "metadata": {},
   "source": [
    "It is probably going to be difficult for the company to make decisions / plans about bookings that have a lead time of more than a year. 365 days should be a reasonable cutoff for our model. There is a long tail for lead time, as observable through the above graph"
   ]
  },
  {
   "cell_type": "code",
   "execution_count": 14,
   "id": "9cc7d1be",
   "metadata": {},
   "outputs": [
    {
     "data": {
      "text/plain": [
       "hotel                             3148\n",
       "is_canceled                       3148\n",
       "lead_time                         3148\n",
       "arrival_date_month                3148\n",
       "stays_in_weekend_nights           3148\n",
       "stays_in_week_nights              3148\n",
       "adults                            3148\n",
       "children                          3148\n",
       "babies                            3148\n",
       "meal                              3148\n",
       "market_segment                    3148\n",
       "distribution_channel              3148\n",
       "is_repeated_guest                 3148\n",
       "previous_cancellations            3148\n",
       "previous_bookings_not_canceled    3148\n",
       "reserved_room_type                3148\n",
       "assigned_room_type                3148\n",
       "booking_changes                   3148\n",
       "deposit_type                      3148\n",
       "agent                             3148\n",
       "days_in_waiting_list              3148\n",
       "customer_type                     3148\n",
       "adr                               3148\n",
       "required_car_parking_spaces       3148\n",
       "total_of_special_requests         3148\n",
       "cancellation_rate                 3148\n",
       "dtype: int64"
      ]
     },
     "execution_count": 14,
     "metadata": {},
     "output_type": "execute_result"
    }
   ],
   "source": [
    "df[df.lead_time>365].count()"
   ]
  },
  {
   "cell_type": "markdown",
   "id": "41c86214",
   "metadata": {},
   "source": [
    "3148 rows (around 2% of the total data) contain data for bookings that have a lead time of more than a year. I think it is safe to drop these rows."
   ]
  },
  {
   "cell_type": "code",
   "execution_count": 15,
   "id": "4d01f8e0",
   "metadata": {},
   "outputs": [
    {
     "data": {
      "text/html": [
       "<div>\n",
       "<style scoped>\n",
       "    .dataframe tbody tr th:only-of-type {\n",
       "        vertical-align: middle;\n",
       "    }\n",
       "\n",
       "    .dataframe tbody tr th {\n",
       "        vertical-align: top;\n",
       "    }\n",
       "\n",
       "    .dataframe thead th {\n",
       "        text-align: right;\n",
       "    }\n",
       "</style>\n",
       "<table border=\"1\" class=\"dataframe\">\n",
       "  <thead>\n",
       "    <tr style=\"text-align: right;\">\n",
       "      <th></th>\n",
       "      <th>mean</th>\n",
       "      <th>median</th>\n",
       "      <th>std_dev</th>\n",
       "      <th>min_val</th>\n",
       "      <th>max_val</th>\n",
       "      <th>missing_vals</th>\n",
       "    </tr>\n",
       "  </thead>\n",
       "  <tbody>\n",
       "    <tr>\n",
       "      <th>is_canceled</th>\n",
       "      <td>0.36</td>\n",
       "      <td>0.0</td>\n",
       "      <td>0.48</td>\n",
       "      <td>0.00</td>\n",
       "      <td>1.0</td>\n",
       "      <td>0</td>\n",
       "    </tr>\n",
       "    <tr>\n",
       "      <th>lead_time</th>\n",
       "      <td>94.90</td>\n",
       "      <td>66.0</td>\n",
       "      <td>92.05</td>\n",
       "      <td>0.00</td>\n",
       "      <td>365.0</td>\n",
       "      <td>0</td>\n",
       "    </tr>\n",
       "    <tr>\n",
       "      <th>stays_in_weekend_nights</th>\n",
       "      <td>0.94</td>\n",
       "      <td>1.0</td>\n",
       "      <td>1.00</td>\n",
       "      <td>0.00</td>\n",
       "      <td>19.0</td>\n",
       "      <td>0</td>\n",
       "    </tr>\n",
       "    <tr>\n",
       "      <th>stays_in_week_nights</th>\n",
       "      <td>2.51</td>\n",
       "      <td>2.0</td>\n",
       "      <td>1.92</td>\n",
       "      <td>0.00</td>\n",
       "      <td>50.0</td>\n",
       "      <td>0</td>\n",
       "    </tr>\n",
       "    <tr>\n",
       "      <th>adults</th>\n",
       "      <td>1.86</td>\n",
       "      <td>2.0</td>\n",
       "      <td>0.58</td>\n",
       "      <td>0.00</td>\n",
       "      <td>55.0</td>\n",
       "      <td>0</td>\n",
       "    </tr>\n",
       "    <tr>\n",
       "      <th>children</th>\n",
       "      <td>0.11</td>\n",
       "      <td>0.0</td>\n",
       "      <td>0.40</td>\n",
       "      <td>0.00</td>\n",
       "      <td>10.0</td>\n",
       "      <td>0</td>\n",
       "    </tr>\n",
       "    <tr>\n",
       "      <th>babies</th>\n",
       "      <td>0.01</td>\n",
       "      <td>0.0</td>\n",
       "      <td>0.10</td>\n",
       "      <td>0.00</td>\n",
       "      <td>10.0</td>\n",
       "      <td>0</td>\n",
       "    </tr>\n",
       "    <tr>\n",
       "      <th>previous_cancellations</th>\n",
       "      <td>0.09</td>\n",
       "      <td>0.0</td>\n",
       "      <td>0.85</td>\n",
       "      <td>0.00</td>\n",
       "      <td>26.0</td>\n",
       "      <td>0</td>\n",
       "    </tr>\n",
       "    <tr>\n",
       "      <th>previous_bookings_not_canceled</th>\n",
       "      <td>0.14</td>\n",
       "      <td>0.0</td>\n",
       "      <td>1.52</td>\n",
       "      <td>0.00</td>\n",
       "      <td>72.0</td>\n",
       "      <td>0</td>\n",
       "    </tr>\n",
       "    <tr>\n",
       "      <th>booking_changes</th>\n",
       "      <td>0.22</td>\n",
       "      <td>0.0</td>\n",
       "      <td>0.66</td>\n",
       "      <td>0.00</td>\n",
       "      <td>21.0</td>\n",
       "      <td>0</td>\n",
       "    </tr>\n",
       "    <tr>\n",
       "      <th>days_in_waiting_list</th>\n",
       "      <td>2.01</td>\n",
       "      <td>0.0</td>\n",
       "      <td>14.19</td>\n",
       "      <td>0.00</td>\n",
       "      <td>259.0</td>\n",
       "      <td>0</td>\n",
       "    </tr>\n",
       "    <tr>\n",
       "      <th>adr</th>\n",
       "      <td>102.45</td>\n",
       "      <td>95.0</td>\n",
       "      <td>50.91</td>\n",
       "      <td>-6.38</td>\n",
       "      <td>5400.0</td>\n",
       "      <td>0</td>\n",
       "    </tr>\n",
       "    <tr>\n",
       "      <th>required_car_parking_spaces</th>\n",
       "      <td>0.06</td>\n",
       "      <td>0.0</td>\n",
       "      <td>0.25</td>\n",
       "      <td>0.00</td>\n",
       "      <td>8.0</td>\n",
       "      <td>0</td>\n",
       "    </tr>\n",
       "    <tr>\n",
       "      <th>total_of_special_requests</th>\n",
       "      <td>0.58</td>\n",
       "      <td>0.0</td>\n",
       "      <td>0.80</td>\n",
       "      <td>0.00</td>\n",
       "      <td>5.0</td>\n",
       "      <td>0</td>\n",
       "    </tr>\n",
       "    <tr>\n",
       "      <th>cancellation_rate</th>\n",
       "      <td>0.05</td>\n",
       "      <td>0.0</td>\n",
       "      <td>0.22</td>\n",
       "      <td>0.00</td>\n",
       "      <td>1.0</td>\n",
       "      <td>0</td>\n",
       "    </tr>\n",
       "  </tbody>\n",
       "</table>\n",
       "</div>"
      ],
      "text/plain": [
       "                                  mean  median  std_dev  min_val  max_val  \\\n",
       "is_canceled                       0.36     0.0     0.48     0.00      1.0   \n",
       "lead_time                        94.90    66.0    92.05     0.00    365.0   \n",
       "stays_in_weekend_nights           0.94     1.0     1.00     0.00     19.0   \n",
       "stays_in_week_nights              2.51     2.0     1.92     0.00     50.0   \n",
       "adults                            1.86     2.0     0.58     0.00     55.0   \n",
       "children                          0.11     0.0     0.40     0.00     10.0   \n",
       "babies                            0.01     0.0     0.10     0.00     10.0   \n",
       "previous_cancellations            0.09     0.0     0.85     0.00     26.0   \n",
       "previous_bookings_not_canceled    0.14     0.0     1.52     0.00     72.0   \n",
       "booking_changes                   0.22     0.0     0.66     0.00     21.0   \n",
       "days_in_waiting_list              2.01     0.0    14.19     0.00    259.0   \n",
       "adr                             102.45    95.0    50.91    -6.38   5400.0   \n",
       "required_car_parking_spaces       0.06     0.0     0.25     0.00      8.0   \n",
       "total_of_special_requests         0.58     0.0     0.80     0.00      5.0   \n",
       "cancellation_rate                 0.05     0.0     0.22     0.00      1.0   \n",
       "\n",
       "                                missing_vals  \n",
       "is_canceled                                0  \n",
       "lead_time                                  0  \n",
       "stays_in_weekend_nights                    0  \n",
       "stays_in_week_nights                       0  \n",
       "adults                                     0  \n",
       "children                                   0  \n",
       "babies                                     0  \n",
       "previous_cancellations                     0  \n",
       "previous_bookings_not_canceled             0  \n",
       "booking_changes                            0  \n",
       "days_in_waiting_list                       0  \n",
       "adr                                        0  \n",
       "required_car_parking_spaces                0  \n",
       "total_of_special_requests                  0  \n",
       "cancellation_rate                          0  "
      ]
     },
     "execution_count": 15,
     "metadata": {},
     "output_type": "execute_result"
    }
   ],
   "source": [
    "df = df.drop(df[df.lead_time>365].index) # We drop the rows having lead time > 365 days\n",
    "\n",
    "df_temp = df.select_dtypes(include=numerics)\n",
    "\n",
    "pd.DataFrame(dict(mean = df_temp.mean().round(2),\n",
    "                  median = df_temp.median().round(2),\n",
    "                  std_dev = df_temp.std().round(2),\n",
    "                  min_val = df_temp.min().round(2),\n",
    "                  max_val = df_temp.max().round(2),\n",
    "                  missing_vals = df_temp.isnull().sum()\n",
    "                  ))"
   ]
  },
  {
   "cell_type": "code",
   "execution_count": 16,
   "id": "2760b4d6",
   "metadata": {
    "scrolled": true
   },
   "outputs": [
    {
     "data": {
      "text/plain": [
       "<AxesSubplot:xlabel='adr', ylabel='Count'>"
      ]
     },
     "execution_count": 16,
     "metadata": {},
     "output_type": "execute_result"
    },
    {
     "data": {
      "image/png": "[encoded data removed]",
      "text/plain": [
       "<Figure size 432x288 with 1 Axes>"
      ]
     },
     "metadata": {
      "needs_background": "light"
     },
     "output_type": "display_data"
    }
   ],
   "source": [
    "sns.histplot(df['adr'])"
   ]
  },
  {
   "cell_type": "markdown",
   "id": "5bba2dac",
   "metadata": {},
   "source": [
    "ADR ideally cannot be negative or zero. These likely indicate bookings that are made through a discount program or related. We would like to include only those bookings which are paid for (have an ADR > 0)\n",
    "\n",
    "We also observe unrealistically high ADR values (such as >= 1000). We will remove these rows from our data as well."
   ]
  },
  {
   "cell_type": "code",
   "execution_count": 17,
   "id": "ea68f6d6",
   "metadata": {
    "scrolled": false
   },
   "outputs": [
    {
     "data": {
      "text/plain": [
       "hotel                             1941\n",
       "is_canceled                       1941\n",
       "lead_time                         1941\n",
       "arrival_date_month                1941\n",
       "stays_in_weekend_nights           1941\n",
       "stays_in_week_nights              1941\n",
       "adults                            1941\n",
       "children                          1941\n",
       "babies                            1941\n",
       "meal                              1941\n",
       "market_segment                    1941\n",
       "distribution_channel              1941\n",
       "is_repeated_guest                 1941\n",
       "previous_cancellations            1941\n",
       "previous_bookings_not_canceled    1941\n",
       "reserved_room_type                1941\n",
       "assigned_room_type                1941\n",
       "booking_changes                   1941\n",
       "deposit_type                      1941\n",
       "agent                             1941\n",
       "days_in_waiting_list              1941\n",
       "customer_type                     1941\n",
       "adr                               1941\n",
       "required_car_parking_spaces       1941\n",
       "total_of_special_requests         1941\n",
       "cancellation_rate                 1941\n",
       "dtype: int64"
      ]
     },
     "execution_count": 17,
     "metadata": {},
     "output_type": "execute_result"
    }
   ],
   "source": [
    "df[df.adr>=1000].count()\n",
    "df[df.adr<=0].count()"
   ]
  },
  {
   "cell_type": "markdown",
   "id": "cedd7bf6",
   "metadata": {},
   "source": [
    "1941 rows have ADR <= 0, and 1 row has ADR >= 1000. This is around 2% of our data. We will drop these rows"
   ]
  },
  {
   "cell_type": "code",
   "execution_count": 18,
   "id": "3b69bedb",
   "metadata": {
    "scrolled": false
   },
   "outputs": [
    {
     "data": {
      "text/html": [
       "<div>\n",
       "<style scoped>\n",
       "    .dataframe tbody tr th:only-of-type {\n",
       "        vertical-align: middle;\n",
       "    }\n",
       "\n",
       "    .dataframe tbody tr th {\n",
       "        vertical-align: top;\n",
       "    }\n",
       "\n",
       "    .dataframe thead th {\n",
       "        text-align: right;\n",
       "    }\n",
       "</style>\n",
       "<table border=\"1\" class=\"dataframe\">\n",
       "  <thead>\n",
       "    <tr style=\"text-align: right;\">\n",
       "      <th></th>\n",
       "      <th>mean</th>\n",
       "      <th>median</th>\n",
       "      <th>std_dev</th>\n",
       "      <th>min_val</th>\n",
       "      <th>max_val</th>\n",
       "      <th>missing_vals</th>\n",
       "    </tr>\n",
       "  </thead>\n",
       "  <tbody>\n",
       "    <tr>\n",
       "      <th>is_canceled</th>\n",
       "      <td>0.37</td>\n",
       "      <td>0.00</td>\n",
       "      <td>0.48</td>\n",
       "      <td>0.00</td>\n",
       "      <td>1.0</td>\n",
       "      <td>0</td>\n",
       "    </tr>\n",
       "    <tr>\n",
       "      <th>lead_time</th>\n",
       "      <td>95.91</td>\n",
       "      <td>67.00</td>\n",
       "      <td>92.05</td>\n",
       "      <td>0.00</td>\n",
       "      <td>365.0</td>\n",
       "      <td>0</td>\n",
       "    </tr>\n",
       "    <tr>\n",
       "      <th>stays_in_weekend_nights</th>\n",
       "      <td>0.95</td>\n",
       "      <td>1.00</td>\n",
       "      <td>1.00</td>\n",
       "      <td>0.00</td>\n",
       "      <td>19.0</td>\n",
       "      <td>0</td>\n",
       "    </tr>\n",
       "    <tr>\n",
       "      <th>stays_in_week_nights</th>\n",
       "      <td>2.54</td>\n",
       "      <td>2.00</td>\n",
       "      <td>1.91</td>\n",
       "      <td>0.00</td>\n",
       "      <td>50.0</td>\n",
       "      <td>0</td>\n",
       "    </tr>\n",
       "    <tr>\n",
       "      <th>adults</th>\n",
       "      <td>1.86</td>\n",
       "      <td>2.00</td>\n",
       "      <td>0.49</td>\n",
       "      <td>0.00</td>\n",
       "      <td>4.0</td>\n",
       "      <td>0</td>\n",
       "    </tr>\n",
       "    <tr>\n",
       "      <th>children</th>\n",
       "      <td>0.11</td>\n",
       "      <td>0.00</td>\n",
       "      <td>0.40</td>\n",
       "      <td>0.00</td>\n",
       "      <td>10.0</td>\n",
       "      <td>0</td>\n",
       "    </tr>\n",
       "    <tr>\n",
       "      <th>babies</th>\n",
       "      <td>0.01</td>\n",
       "      <td>0.00</td>\n",
       "      <td>0.10</td>\n",
       "      <td>0.00</td>\n",
       "      <td>10.0</td>\n",
       "      <td>0</td>\n",
       "    </tr>\n",
       "    <tr>\n",
       "      <th>previous_cancellations</th>\n",
       "      <td>0.09</td>\n",
       "      <td>0.00</td>\n",
       "      <td>0.86</td>\n",
       "      <td>0.00</td>\n",
       "      <td>26.0</td>\n",
       "      <td>0</td>\n",
       "    </tr>\n",
       "    <tr>\n",
       "      <th>previous_bookings_not_canceled</th>\n",
       "      <td>0.13</td>\n",
       "      <td>0.00</td>\n",
       "      <td>1.47</td>\n",
       "      <td>0.00</td>\n",
       "      <td>72.0</td>\n",
       "      <td>0</td>\n",
       "    </tr>\n",
       "    <tr>\n",
       "      <th>booking_changes</th>\n",
       "      <td>0.22</td>\n",
       "      <td>0.00</td>\n",
       "      <td>0.64</td>\n",
       "      <td>0.00</td>\n",
       "      <td>18.0</td>\n",
       "      <td>0</td>\n",
       "    </tr>\n",
       "    <tr>\n",
       "      <th>days_in_waiting_list</th>\n",
       "      <td>2.02</td>\n",
       "      <td>0.00</td>\n",
       "      <td>14.23</td>\n",
       "      <td>0.00</td>\n",
       "      <td>259.0</td>\n",
       "      <td>0</td>\n",
       "    </tr>\n",
       "    <tr>\n",
       "      <th>adr</th>\n",
       "      <td>104.15</td>\n",
       "      <td>95.13</td>\n",
       "      <td>47.00</td>\n",
       "      <td>0.26</td>\n",
       "      <td>510.0</td>\n",
       "      <td>0</td>\n",
       "    </tr>\n",
       "    <tr>\n",
       "      <th>required_car_parking_spaces</th>\n",
       "      <td>0.06</td>\n",
       "      <td>0.00</td>\n",
       "      <td>0.25</td>\n",
       "      <td>0.00</td>\n",
       "      <td>8.0</td>\n",
       "      <td>0</td>\n",
       "    </tr>\n",
       "    <tr>\n",
       "      <th>total_of_special_requests</th>\n",
       "      <td>0.58</td>\n",
       "      <td>0.00</td>\n",
       "      <td>0.80</td>\n",
       "      <td>0.00</td>\n",
       "      <td>5.0</td>\n",
       "      <td>0</td>\n",
       "    </tr>\n",
       "    <tr>\n",
       "      <th>cancellation_rate</th>\n",
       "      <td>0.05</td>\n",
       "      <td>0.00</td>\n",
       "      <td>0.22</td>\n",
       "      <td>0.00</td>\n",
       "      <td>1.0</td>\n",
       "      <td>0</td>\n",
       "    </tr>\n",
       "  </tbody>\n",
       "</table>\n",
       "</div>"
      ],
      "text/plain": [
       "                                  mean  median  std_dev  min_val  max_val  \\\n",
       "is_canceled                       0.37    0.00     0.48     0.00      1.0   \n",
       "lead_time                        95.91   67.00    92.05     0.00    365.0   \n",
       "stays_in_weekend_nights           0.95    1.00     1.00     0.00     19.0   \n",
       "stays_in_week_nights              2.54    2.00     1.91     0.00     50.0   \n",
       "adults                            1.86    2.00     0.49     0.00      4.0   \n",
       "children                          0.11    0.00     0.40     0.00     10.0   \n",
       "babies                            0.01    0.00     0.10     0.00     10.0   \n",
       "previous_cancellations            0.09    0.00     0.86     0.00     26.0   \n",
       "previous_bookings_not_canceled    0.13    0.00     1.47     0.00     72.0   \n",
       "booking_changes                   0.22    0.00     0.64     0.00     18.0   \n",
       "days_in_waiting_list              2.02    0.00    14.23     0.00    259.0   \n",
       "adr                             104.15   95.13    47.00     0.26    510.0   \n",
       "required_car_parking_spaces       0.06    0.00     0.25     0.00      8.0   \n",
       "total_of_special_requests         0.58    0.00     0.80     0.00      5.0   \n",
       "cancellation_rate                 0.05    0.00     0.22     0.00      1.0   \n",
       "\n",
       "                                missing_vals  \n",
       "is_canceled                                0  \n",
       "lead_time                                  0  \n",
       "stays_in_weekend_nights                    0  \n",
       "stays_in_week_nights                       0  \n",
       "adults                                     0  \n",
       "children                                   0  \n",
       "babies                                     0  \n",
       "previous_cancellations                     0  \n",
       "previous_bookings_not_canceled             0  \n",
       "booking_changes                            0  \n",
       "days_in_waiting_list                       0  \n",
       "adr                                        0  \n",
       "required_car_parking_spaces                0  \n",
       "total_of_special_requests                  0  \n",
       "cancellation_rate                          0  "
      ]
     },
     "execution_count": 18,
     "metadata": {},
     "output_type": "execute_result"
    }
   ],
   "source": [
    "df = df.drop(df[df.adr<=0].index)\n",
    "df = df.drop(df[df.adr>=1000].index)\n",
    "\n",
    "df_temp = df.select_dtypes(include=numerics)\n",
    "\n",
    "pd.DataFrame(dict(mean = df_temp.mean().round(2),\n",
    "                  median = df_temp.median().round(2),\n",
    "                  std_dev = df_temp.std().round(2),\n",
    "                  min_val = df_temp.min().round(2),\n",
    "                  max_val = df_temp.max().round(2),\n",
    "                  missing_vals = df_temp.isnull().sum()\n",
    "                  ))"
   ]
  },
  {
   "cell_type": "markdown",
   "id": "5570cb6b",
   "metadata": {},
   "source": [
    "We have removed the outliers to some extent (have taken care of the unrealistic values, at least). We now continue with the analysis of the rest of the columns.\n",
    "\n",
    "There are some columns that can be dropped - previous cancellations, previous_bookings_not_canceled (as we have created cancellation_rate which models both of them).\n",
    "\n",
    "HOWEVER, to ensure 100% of the behaviour of previous cancellations and previous bookings not cancelled are present, I will create a column called \"total bookings\". This results in cancellation rate + total bookings giving us the full picture of previous cancellations and previous bookings not cancelled.\n",
    "\n",
    "These columns required investigation - children, babies, days_in_waiting_list, required_car_parking_spaces, total_of_special_requests. These columns seem to be sparsely filled as their mean values are very low."
   ]
  },
  {
   "cell_type": "code",
   "execution_count": 19,
   "id": "b696179c",
   "metadata": {},
   "outputs": [],
   "source": [
    "df['total_bookings'] = df['previous_cancellations'] + df['previous_bookings_not_canceled']\n",
    "df = df.drop(columns = ['previous_cancellations', 'previous_bookings_not_canceled'])"
   ]
  },
  {
   "cell_type": "code",
   "execution_count": 20,
   "id": "d4ca7732",
   "metadata": {},
   "outputs": [
    {
     "data": {
      "text/plain": [
       "0     0.925713\n",
       "1     0.042012\n",
       "2     0.031610\n",
       "3     0.000656\n",
       "10    0.000009\n",
       "Name: children, dtype: float64"
      ]
     },
     "execution_count": 20,
     "metadata": {},
     "output_type": "execute_result"
    }
   ],
   "source": [
    "df['children'].unique()\n",
    "\n",
    "df.children.value_counts() / len(df)"
   ]
  },
  {
   "cell_type": "markdown",
   "id": "01b3b0e9",
   "metadata": {},
   "source": [
    "92.5% of the data has the value of children as 0. This shows that children would not be able to explain is_canceled very well."
   ]
  },
  {
   "cell_type": "code",
   "execution_count": 21,
   "id": "9558f7bd",
   "metadata": {},
   "outputs": [
    {
     "data": {
      "text/plain": [
       "0     0.992213\n",
       "1     0.007638\n",
       "2     0.000131\n",
       "10    0.000009\n",
       "9     0.000009\n",
       "Name: babies, dtype: float64"
      ]
     },
     "execution_count": 21,
     "metadata": {},
     "output_type": "execute_result"
    }
   ],
   "source": [
    "df['babies'].unique()\n",
    "\n",
    "df.babies.value_counts() / len(df)"
   ]
  },
  {
   "cell_type": "markdown",
   "id": "c5214399",
   "metadata": {},
   "source": [
    "99% of the data has the value of babies as 0. Babies also will not be able to explain is_canceled very well."
   ]
  },
  {
   "cell_type": "code",
   "execution_count": 22,
   "id": "f26231e1",
   "metadata": {},
   "outputs": [
    {
     "data": {
      "text/plain": [
       "0      0.969466\n",
       "39     0.001627\n",
       "58     0.001435\n",
       "44     0.001234\n",
       "31     0.001111\n",
       "         ...   \n",
       "116    0.000009\n",
       "121    0.000009\n",
       "142    0.000009\n",
       "165    0.000009\n",
       "36     0.000009\n",
       "Name: days_in_waiting_list, Length: 124, dtype: float64"
      ]
     },
     "execution_count": 22,
     "metadata": {},
     "output_type": "execute_result"
    }
   ],
   "source": [
    "df['days_in_waiting_list'].unique()\n",
    "\n",
    "df.days_in_waiting_list.value_counts() / len(df)"
   ]
  },
  {
   "cell_type": "markdown",
   "id": "fc9eea4e",
   "metadata": {},
   "source": [
    "96.9% of the data has days in waiting list = 0. This column too would not be able to explain is_canceled very well."
   ]
  },
  {
   "cell_type": "code",
   "execution_count": 23,
   "id": "a4132aab",
   "metadata": {},
   "outputs": [
    {
     "data": {
      "text/plain": [
       "0    0.936212\n",
       "1    0.063508\n",
       "2    0.000236\n",
       "3    0.000026\n",
       "8    0.000017\n",
       "Name: required_car_parking_spaces, dtype: float64"
      ]
     },
     "execution_count": 23,
     "metadata": {},
     "output_type": "execute_result"
    }
   ],
   "source": [
    "df['required_car_parking_spaces'].unique()\n",
    "\n",
    "df.required_car_parking_spaces.value_counts() / len(df)"
   ]
  },
  {
   "cell_type": "markdown",
   "id": "d7992811",
   "metadata": {},
   "source": [
    "93.6% of the data has required car parking spaces as 0. We will keep this however, as it may occur that the lack of a parking space results in a cancellation of the booking."
   ]
  },
  {
   "cell_type": "code",
   "execution_count": 24,
   "id": "c0aaa15f",
   "metadata": {},
   "outputs": [
    {
     "data": {
      "text/plain": [
       "0    0.583281\n",
       "1    0.281137\n",
       "2    0.111172\n",
       "3    0.021225\n",
       "4    0.002835\n",
       "5    0.000350\n",
       "Name: total_of_special_requests, dtype: float64"
      ]
     },
     "execution_count": 24,
     "metadata": {},
     "output_type": "execute_result"
    }
   ],
   "source": [
    "df['total_of_special_requests'].unique()\n",
    "\n",
    "df.total_of_special_requests.value_counts() / len(df)"
   ]
  },
  {
   "cell_type": "markdown",
   "id": "1c122645",
   "metadata": {},
   "source": [
    "58.3% of the data has total number of special requests as 0. There is more variation in this column versus the other columns that were just analyzed. We will keep this column."
   ]
  },
  {
   "cell_type": "code",
   "execution_count": 25,
   "id": "0cf5e571",
   "metadata": {},
   "outputs": [],
   "source": [
    "df['total_children'] = df['children'] + df['babies']\n",
    "df = df.drop(columns=['children', 'babies', 'days_in_waiting_list'])"
   ]
  },
  {
   "cell_type": "markdown",
   "id": "4510fcc8",
   "metadata": {},
   "source": [
    "We create a new column 'total children', that would combine the children and babies column to effectively reduce the number of '0' values. Total Children can be a useful variable, as in case there is no extra bed / other ameneties available for children, the booking may get canceled"
   ]
  },
  {
   "cell_type": "markdown",
   "id": "3a68511c",
   "metadata": {},
   "source": [
    "><h3>Correlation Matrix</h3>\n",
    "Now that our (numeric) data is ready, we can start to generate and look at the correlation matrix. From this we can understand which are those independent variables that seem to influence MSRP the most."
   ]
  },
  {
   "cell_type": "code",
   "execution_count": 26,
   "id": "309d7bd7",
   "metadata": {
    "scrolled": false
   },
   "outputs": [
    {
     "data": {
      "text/html": [
       "<div>\n",
       "<style scoped>\n",
       "    .dataframe tbody tr th:only-of-type {\n",
       "        vertical-align: middle;\n",
       "    }\n",
       "\n",
       "    .dataframe tbody tr th {\n",
       "        vertical-align: top;\n",
       "    }\n",
       "\n",
       "    .dataframe thead th {\n",
       "        text-align: right;\n",
       "    }\n",
       "</style>\n",
       "<table border=\"1\" class=\"dataframe\">\n",
       "  <thead>\n",
       "    <tr style=\"text-align: right;\">\n",
       "      <th></th>\n",
       "      <th>is_canceled</th>\n",
       "      <th>lead_time</th>\n",
       "      <th>stays_in_weekend_nights</th>\n",
       "      <th>stays_in_week_nights</th>\n",
       "      <th>adults</th>\n",
       "      <th>booking_changes</th>\n",
       "      <th>adr</th>\n",
       "      <th>required_car_parking_spaces</th>\n",
       "      <th>total_of_special_requests</th>\n",
       "      <th>cancellation_rate</th>\n",
       "      <th>total_bookings</th>\n",
       "      <th>total_children</th>\n",
       "    </tr>\n",
       "  </thead>\n",
       "  <tbody>\n",
       "    <tr>\n",
       "      <th>is_canceled</th>\n",
       "      <td>1.000000</td>\n",
       "      <td>0.279599</td>\n",
       "      <td>0.004100</td>\n",
       "      <td>0.025766</td>\n",
       "      <td>0.054519</td>\n",
       "      <td>-0.139408</td>\n",
       "      <td>0.048788</td>\n",
       "      <td>-0.196576</td>\n",
       "      <td>-0.225245</td>\n",
       "      <td>0.295108</td>\n",
       "      <td>0.009117</td>\n",
       "      <td>0.001371</td>\n",
       "    </tr>\n",
       "    <tr>\n",
       "      <th>lead_time</th>\n",
       "      <td>0.279599</td>\n",
       "      <td>1.000000</td>\n",
       "      <td>0.133335</td>\n",
       "      <td>0.217441</td>\n",
       "      <td>0.135369</td>\n",
       "      <td>0.014956</td>\n",
       "      <td>-0.053525</td>\n",
       "      <td>-0.114930</td>\n",
       "      <td>-0.068481</td>\n",
       "      <td>0.272865</td>\n",
       "      <td>-0.008920</td>\n",
       "      <td>-0.022899</td>\n",
       "    </tr>\n",
       "    <tr>\n",
       "      <th>stays_in_weekend_nights</th>\n",
       "      <td>0.004100</td>\n",
       "      <td>0.133335</td>\n",
       "      <td>1.000000</td>\n",
       "      <td>0.495139</td>\n",
       "      <td>0.105835</td>\n",
       "      <td>0.047228</td>\n",
       "      <td>0.028362</td>\n",
       "      <td>-0.021818</td>\n",
       "      <td>0.069529</td>\n",
       "      <td>-0.051005</td>\n",
       "      <td>-0.038678</td>\n",
       "      <td>0.046970</td>\n",
       "    </tr>\n",
       "    <tr>\n",
       "      <th>stays_in_week_nights</th>\n",
       "      <td>0.025766</td>\n",
       "      <td>0.217441</td>\n",
       "      <td>0.495139</td>\n",
       "      <td>1.000000</td>\n",
       "      <td>0.106932</td>\n",
       "      <td>0.076558</td>\n",
       "      <td>0.046947</td>\n",
       "      <td>-0.027989</td>\n",
       "      <td>0.069034</td>\n",
       "      <td>-0.051973</td>\n",
       "      <td>-0.044600</td>\n",
       "      <td>0.045943</td>\n",
       "    </tr>\n",
       "    <tr>\n",
       "      <th>adults</th>\n",
       "      <td>0.054519</td>\n",
       "      <td>0.135369</td>\n",
       "      <td>0.105835</td>\n",
       "      <td>0.106932</td>\n",
       "      <td>1.000000</td>\n",
       "      <td>-0.046297</td>\n",
       "      <td>0.289553</td>\n",
       "      <td>0.018639</td>\n",
       "      <td>0.154000</td>\n",
       "      <td>-0.010707</td>\n",
       "      <td>-0.105735</td>\n",
       "      <td>0.040064</td>\n",
       "    </tr>\n",
       "    <tr>\n",
       "      <th>booking_changes</th>\n",
       "      <td>-0.139408</td>\n",
       "      <td>0.014956</td>\n",
       "      <td>0.047228</td>\n",
       "      <td>0.076558</td>\n",
       "      <td>-0.046297</td>\n",
       "      <td>1.000000</td>\n",
       "      <td>0.035411</td>\n",
       "      <td>0.068365</td>\n",
       "      <td>0.054150</td>\n",
       "      <td>-0.067431</td>\n",
       "      <td>-0.003245</td>\n",
       "      <td>0.070237</td>\n",
       "    </tr>\n",
       "    <tr>\n",
       "      <th>adr</th>\n",
       "      <td>0.048788</td>\n",
       "      <td>-0.053525</td>\n",
       "      <td>0.028362</td>\n",
       "      <td>0.046947</td>\n",
       "      <td>0.289553</td>\n",
       "      <td>0.035411</td>\n",
       "      <td>1.000000</td>\n",
       "      <td>0.058800</td>\n",
       "      <td>0.182646</td>\n",
       "      <td>-0.126010</td>\n",
       "      <td>-0.087435</td>\n",
       "      <td>0.348583</td>\n",
       "    </tr>\n",
       "    <tr>\n",
       "      <th>required_car_parking_spaces</th>\n",
       "      <td>-0.196576</td>\n",
       "      <td>-0.114930</td>\n",
       "      <td>-0.021818</td>\n",
       "      <td>-0.027989</td>\n",
       "      <td>0.018639</td>\n",
       "      <td>0.068365</td>\n",
       "      <td>0.058800</td>\n",
       "      <td>1.000000</td>\n",
       "      <td>0.079223</td>\n",
       "      <td>-0.056710</td>\n",
       "      <td>0.031611</td>\n",
       "      <td>0.061565</td>\n",
       "    </tr>\n",
       "    <tr>\n",
       "      <th>total_of_special_requests</th>\n",
       "      <td>-0.225245</td>\n",
       "      <td>-0.068481</td>\n",
       "      <td>0.069529</td>\n",
       "      <td>0.069034</td>\n",
       "      <td>0.154000</td>\n",
       "      <td>0.054150</td>\n",
       "      <td>0.182646</td>\n",
       "      <td>0.079223</td>\n",
       "      <td>1.000000</td>\n",
       "      <td>-0.127662</td>\n",
       "      <td>-0.005725</td>\n",
       "      <td>0.099511</td>\n",
       "    </tr>\n",
       "    <tr>\n",
       "      <th>cancellation_rate</th>\n",
       "      <td>0.295108</td>\n",
       "      <td>0.272865</td>\n",
       "      <td>-0.051005</td>\n",
       "      <td>-0.051973</td>\n",
       "      <td>-0.010707</td>\n",
       "      <td>-0.067431</td>\n",
       "      <td>-0.126010</td>\n",
       "      <td>-0.056710</td>\n",
       "      <td>-0.127662</td>\n",
       "      <td>1.000000</td>\n",
       "      <td>0.195942</td>\n",
       "      <td>-0.055238</td>\n",
       "    </tr>\n",
       "    <tr>\n",
       "      <th>total_bookings</th>\n",
       "      <td>0.009117</td>\n",
       "      <td>-0.008920</td>\n",
       "      <td>-0.038678</td>\n",
       "      <td>-0.044600</td>\n",
       "      <td>-0.105735</td>\n",
       "      <td>-0.003245</td>\n",
       "      <td>-0.087435</td>\n",
       "      <td>0.031611</td>\n",
       "      <td>-0.005725</td>\n",
       "      <td>0.195942</td>\n",
       "      <td>1.000000</td>\n",
       "      <td>-0.030065</td>\n",
       "    </tr>\n",
       "    <tr>\n",
       "      <th>total_children</th>\n",
       "      <td>0.001371</td>\n",
       "      <td>-0.022899</td>\n",
       "      <td>0.046970</td>\n",
       "      <td>0.045943</td>\n",
       "      <td>0.040064</td>\n",
       "      <td>0.070237</td>\n",
       "      <td>0.348583</td>\n",
       "      <td>0.061565</td>\n",
       "      <td>0.099511</td>\n",
       "      <td>-0.055238</td>\n",
       "      <td>-0.030065</td>\n",
       "      <td>1.000000</td>\n",
       "    </tr>\n",
       "  </tbody>\n",
       "</table>\n",
       "</div>"
      ],
      "text/plain": [
       "                             is_canceled  lead_time  stays_in_weekend_nights  \\\n",
       "is_canceled                     1.000000   0.279599                 0.004100   \n",
       "lead_time                       0.279599   1.000000                 0.133335   \n",
       "stays_in_weekend_nights         0.004100   0.133335                 1.000000   \n",
       "stays_in_week_nights            0.025766   0.217441                 0.495139   \n",
       "adults                          0.054519   0.135369                 0.105835   \n",
       "booking_changes                -0.139408   0.014956                 0.047228   \n",
       "adr                             0.048788  -0.053525                 0.028362   \n",
       "required_car_parking_spaces    -0.196576  -0.114930                -0.021818   \n",
       "total_of_special_requests      -0.225245  -0.068481                 0.069529   \n",
       "cancellation_rate               0.295108   0.272865                -0.051005   \n",
       "total_bookings                  0.009117  -0.008920                -0.038678   \n",
       "total_children                  0.001371  -0.022899                 0.046970   \n",
       "\n",
       "                             stays_in_week_nights    adults  booking_changes  \\\n",
       "is_canceled                              0.025766  0.054519        -0.139408   \n",
       "lead_time                                0.217441  0.135369         0.014956   \n",
       "stays_in_weekend_nights                  0.495139  0.105835         0.047228   \n",
       "stays_in_week_nights                     1.000000  0.106932         0.076558   \n",
       "adults                                   0.106932  1.000000        -0.046297   \n",
       "booking_changes                          0.076558 -0.046297         1.000000   \n",
       "adr                                      0.046947  0.289553         0.035411   \n",
       "required_car_parking_spaces             -0.027989  0.018639         0.068365   \n",
       "total_of_special_requests                0.069034  0.154000         0.054150   \n",
       "cancellation_rate                       -0.051973 -0.010707        -0.067431   \n",
       "total_bookings                          -0.044600 -0.105735        -0.003245   \n",
       "total_children                           0.045943  0.040064         0.070237   \n",
       "\n",
       "                                  adr  required_car_parking_spaces  \\\n",
       "is_canceled                  0.048788                    -0.196576   \n",
       "lead_time                   -0.053525                    -0.114930   \n",
       "stays_in_weekend_nights      0.028362                    -0.021818   \n",
       "stays_in_week_nights         0.046947                    -0.027989   \n",
       "adults                       0.289553                     0.018639   \n",
       "booking_changes              0.035411                     0.068365   \n",
       "adr                          1.000000                     0.058800   \n",
       "required_car_parking_spaces  0.058800                     1.000000   \n",
       "total_of_special_requests    0.182646                     0.079223   \n",
       "cancellation_rate           -0.126010                    -0.056710   \n",
       "total_bookings              -0.087435                     0.031611   \n",
       "total_children               0.348583                     0.061565   \n",
       "\n",
       "                             total_of_special_requests  cancellation_rate  \\\n",
       "is_canceled                                  -0.225245           0.295108   \n",
       "lead_time                                    -0.068481           0.272865   \n",
       "stays_in_weekend_nights                       0.069529          -0.051005   \n",
       "stays_in_week_nights                          0.069034          -0.051973   \n",
       "adults                                        0.154000          -0.010707   \n",
       "booking_changes                               0.054150          -0.067431   \n",
       "adr                                           0.182646          -0.126010   \n",
       "required_car_parking_spaces                   0.079223          -0.056710   \n",
       "total_of_special_requests                     1.000000          -0.127662   \n",
       "cancellation_rate                            -0.127662           1.000000   \n",
       "total_bookings                               -0.005725           0.195942   \n",
       "total_children                                0.099511          -0.055238   \n",
       "\n",
       "                             total_bookings  total_children  \n",
       "is_canceled                        0.009117        0.001371  \n",
       "lead_time                         -0.008920       -0.022899  \n",
       "stays_in_weekend_nights           -0.038678        0.046970  \n",
       "stays_in_week_nights              -0.044600        0.045943  \n",
       "adults                            -0.105735        0.040064  \n",
       "booking_changes                   -0.003245        0.070237  \n",
       "adr                               -0.087435        0.348583  \n",
       "required_car_parking_spaces        0.031611        0.061565  \n",
       "total_of_special_requests         -0.005725        0.099511  \n",
       "cancellation_rate                  0.195942       -0.055238  \n",
       "total_bookings                     1.000000       -0.030065  \n",
       "total_children                    -0.030065        1.000000  "
      ]
     },
     "execution_count": 26,
     "metadata": {},
     "output_type": "execute_result"
    }
   ],
   "source": [
    "df.corr()"
   ]
  },
  {
   "cell_type": "markdown",
   "id": "3f5dee56",
   "metadata": {},
   "source": [
    "Lead time and cancellation rate have the highest positive correlation (28%, 30%) with is_canceled. Total number of special requests has a negative correlation (-23%). The rest of the variables do not show much of a correlation."
   ]
  },
  {
   "cell_type": "code",
   "execution_count": 27,
   "id": "642228be",
   "metadata": {},
   "outputs": [
    {
     "data": {
      "text/plain": [
       "<seaborn.axisgrid.FacetGrid at 0x24719dd4190>"
      ]
     },
     "execution_count": 27,
     "metadata": {},
     "output_type": "execute_result"
    },
    {
     "data": {
      "image/png": "[encoded data removed]",
      "text/plain": [
       "<Figure size 440x216 with 2 Axes>"
      ]
     },
     "metadata": {
      "needs_background": "light"
     },
     "output_type": "display_data"
    }
   ],
   "source": [
    "grid = sns.FacetGrid(df, col='is_canceled')\n",
    "grid.map(plt.hist, 'lead_time', width=50)\n",
    "grid.add_legend()"
   ]
  },
  {
   "cell_type": "markdown",
   "id": "b6804315",
   "metadata": {},
   "source": [
    "It appears that most bookings that are made at the hotel (lead time = 0) are not cancelled. "
   ]
  },
  {
   "cell_type": "code",
   "execution_count": 28,
   "id": "b7b35eb2",
   "metadata": {},
   "outputs": [
    {
     "data": {
      "text/html": [
       "<div>\n",
       "<style scoped>\n",
       "    .dataframe tbody tr th:only-of-type {\n",
       "        vertical-align: middle;\n",
       "    }\n",
       "\n",
       "    .dataframe tbody tr th {\n",
       "        vertical-align: top;\n",
       "    }\n",
       "\n",
       "    .dataframe thead th {\n",
       "        text-align: right;\n",
       "    }\n",
       "</style>\n",
       "<table border=\"1\" class=\"dataframe\">\n",
       "  <thead>\n",
       "    <tr style=\"text-align: right;\">\n",
       "      <th></th>\n",
       "      <th>mean</th>\n",
       "    </tr>\n",
       "    <tr>\n",
       "      <th>is_canceled</th>\n",
       "      <th></th>\n",
       "    </tr>\n",
       "  </thead>\n",
       "  <tbody>\n",
       "    <tr>\n",
       "      <th>0</th>\n",
       "      <td>0.00</td>\n",
       "    </tr>\n",
       "    <tr>\n",
       "      <th>1</th>\n",
       "      <td>0.13</td>\n",
       "    </tr>\n",
       "  </tbody>\n",
       "</table>\n",
       "</div>"
      ],
      "text/plain": [
       "             mean\n",
       "is_canceled      \n",
       "0            0.00\n",
       "1            0.13"
      ]
     },
     "metadata": {},
     "output_type": "display_data"
    }
   ],
   "source": [
    "df_group = df_temp.groupby(by='is_canceled').cancellation_rate.agg(['mean']).round(2)\n",
    "display(df_group)"
   ]
  },
  {
   "cell_type": "markdown",
   "id": "1ed6d8a4",
   "metadata": {},
   "source": [
    "When we look at the mean of cancellation rate vs. the is_canceled field, we can see that it indicates a relationship. 13% is the mean where bookings were canceled (is_canceled=1), whereas the mean is 0% for not canceled (is_canceled = 0)"
   ]
  },
  {
   "cell_type": "code",
   "execution_count": 29,
   "id": "371de4d9",
   "metadata": {},
   "outputs": [
    {
     "data": {
      "text/html": [
       "<div>\n",
       "<style scoped>\n",
       "    .dataframe tbody tr th:only-of-type {\n",
       "        vertical-align: middle;\n",
       "    }\n",
       "\n",
       "    .dataframe tbody tr th {\n",
       "        vertical-align: top;\n",
       "    }\n",
       "\n",
       "    .dataframe thead th {\n",
       "        text-align: right;\n",
       "    }\n",
       "</style>\n",
       "<table border=\"1\" class=\"dataframe\">\n",
       "  <thead>\n",
       "    <tr style=\"text-align: right;\">\n",
       "      <th></th>\n",
       "      <th>mean</th>\n",
       "    </tr>\n",
       "    <tr>\n",
       "      <th>is_canceled</th>\n",
       "      <th></th>\n",
       "    </tr>\n",
       "  </thead>\n",
       "  <tbody>\n",
       "    <tr>\n",
       "      <th>0</th>\n",
       "      <td>102.40</td>\n",
       "    </tr>\n",
       "    <tr>\n",
       "      <th>1</th>\n",
       "      <td>107.16</td>\n",
       "    </tr>\n",
       "  </tbody>\n",
       "</table>\n",
       "</div>"
      ],
      "text/plain": [
       "               mean\n",
       "is_canceled        \n",
       "0            102.40\n",
       "1            107.16"
      ]
     },
     "metadata": {},
     "output_type": "display_data"
    }
   ],
   "source": [
    "df_group = df_temp.groupby(by='is_canceled').adr.agg(['mean']).round(2)\n",
    "display(df_group)"
   ]
  },
  {
   "cell_type": "markdown",
   "id": "e23a5f89",
   "metadata": {},
   "source": [
    "ADR shows almost no variation between is_canceled 0 and 1"
   ]
  },
  {
   "cell_type": "markdown",
   "id": "81efc9d6",
   "metadata": {},
   "source": [
    "><h3>Data Deep Dive - Categorical</h3>\n",
    "For categorical variables, the first thing we want to understand is - what are the unique values for each categorical column? This will help to explain each column to understand it's effect on the target variable. Once this is complete, we can begin to summarize the target variable as a function of each unique value in the categorical column/s. If we observe that there is not much variance in the target variable (mean) between unique values of the categorical column, we may then choose to drop the column as it is not beneficial. We then convert the categorical variables to numerical indicators through a process known as \"one-hot encoding\". We ensure to drop those columns that are not beneficial in predicting / influencing the target variable value."
   ]
  },
  {
   "cell_type": "code",
   "execution_count": 30,
   "id": "18cce7ac",
   "metadata": {},
   "outputs": [
    {
     "data": {
      "text/html": [
       "<div>\n",
       "<style scoped>\n",
       "    .dataframe tbody tr th:only-of-type {\n",
       "        vertical-align: middle;\n",
       "    }\n",
       "\n",
       "    .dataframe tbody tr th {\n",
       "        vertical-align: top;\n",
       "    }\n",
       "\n",
       "    .dataframe thead th {\n",
       "        text-align: right;\n",
       "    }\n",
       "</style>\n",
       "<table border=\"1\" class=\"dataframe\">\n",
       "  <thead>\n",
       "    <tr style=\"text-align: right;\">\n",
       "      <th></th>\n",
       "      <th>is_canceled</th>\n",
       "      <th>hotel</th>\n",
       "      <th>arrival_date_month</th>\n",
       "      <th>meal</th>\n",
       "      <th>market_segment</th>\n",
       "      <th>distribution_channel</th>\n",
       "      <th>is_repeated_guest</th>\n",
       "      <th>reserved_room_type</th>\n",
       "      <th>assigned_room_type</th>\n",
       "      <th>deposit_type</th>\n",
       "      <th>agent</th>\n",
       "      <th>customer_type</th>\n",
       "    </tr>\n",
       "  </thead>\n",
       "  <tbody>\n",
       "    <tr>\n",
       "      <th>2</th>\n",
       "      <td>0</td>\n",
       "      <td>Resort Hotel</td>\n",
       "      <td>July</td>\n",
       "      <td>BB</td>\n",
       "      <td>Direct</td>\n",
       "      <td>Direct</td>\n",
       "      <td>0</td>\n",
       "      <td>A</td>\n",
       "      <td>C</td>\n",
       "      <td>No Deposit</td>\n",
       "      <td>0</td>\n",
       "      <td>Transient</td>\n",
       "    </tr>\n",
       "    <tr>\n",
       "      <th>3</th>\n",
       "      <td>0</td>\n",
       "      <td>Resort Hotel</td>\n",
       "      <td>July</td>\n",
       "      <td>BB</td>\n",
       "      <td>Corporate</td>\n",
       "      <td>Corporate</td>\n",
       "      <td>0</td>\n",
       "      <td>A</td>\n",
       "      <td>A</td>\n",
       "      <td>No Deposit</td>\n",
       "      <td>304</td>\n",
       "      <td>Transient</td>\n",
       "    </tr>\n",
       "    <tr>\n",
       "      <th>4</th>\n",
       "      <td>0</td>\n",
       "      <td>Resort Hotel</td>\n",
       "      <td>July</td>\n",
       "      <td>BB</td>\n",
       "      <td>Online TA</td>\n",
       "      <td>TA/TO</td>\n",
       "      <td>0</td>\n",
       "      <td>A</td>\n",
       "      <td>A</td>\n",
       "      <td>No Deposit</td>\n",
       "      <td>240</td>\n",
       "      <td>Transient</td>\n",
       "    </tr>\n",
       "    <tr>\n",
       "      <th>5</th>\n",
       "      <td>0</td>\n",
       "      <td>Resort Hotel</td>\n",
       "      <td>July</td>\n",
       "      <td>BB</td>\n",
       "      <td>Online TA</td>\n",
       "      <td>TA/TO</td>\n",
       "      <td>0</td>\n",
       "      <td>A</td>\n",
       "      <td>A</td>\n",
       "      <td>No Deposit</td>\n",
       "      <td>240</td>\n",
       "      <td>Transient</td>\n",
       "    </tr>\n",
       "    <tr>\n",
       "      <th>6</th>\n",
       "      <td>0</td>\n",
       "      <td>Resort Hotel</td>\n",
       "      <td>July</td>\n",
       "      <td>BB</td>\n",
       "      <td>Direct</td>\n",
       "      <td>Direct</td>\n",
       "      <td>0</td>\n",
       "      <td>C</td>\n",
       "      <td>C</td>\n",
       "      <td>No Deposit</td>\n",
       "      <td>0</td>\n",
       "      <td>Transient</td>\n",
       "    </tr>\n",
       "  </tbody>\n",
       "</table>\n",
       "</div>"
      ],
      "text/plain": [
       "   is_canceled         hotel arrival_date_month meal market_segment  \\\n",
       "2            0  Resort Hotel               July   BB         Direct   \n",
       "3            0  Resort Hotel               July   BB      Corporate   \n",
       "4            0  Resort Hotel               July   BB      Online TA   \n",
       "5            0  Resort Hotel               July   BB      Online TA   \n",
       "6            0  Resort Hotel               July   BB         Direct   \n",
       "\n",
       "  distribution_channel is_repeated_guest reserved_room_type  \\\n",
       "2               Direct                 0                  A   \n",
       "3            Corporate                 0                  A   \n",
       "4                TA/TO                 0                  A   \n",
       "5                TA/TO                 0                  A   \n",
       "6               Direct                 0                  C   \n",
       "\n",
       "  assigned_room_type deposit_type agent customer_type  \n",
       "2                  C   No Deposit     0     Transient  \n",
       "3                  A   No Deposit   304     Transient  \n",
       "4                  A   No Deposit   240     Transient  \n",
       "5                  A   No Deposit   240     Transient  \n",
       "6                  C   No Deposit     0     Transient  "
      ]
     },
     "execution_count": 30,
     "metadata": {},
     "output_type": "execute_result"
    }
   ],
   "source": [
    "# We now focus solely on the categorical columns.\n",
    "categorical = ['object']\n",
    "\n",
    "df_temp = pd.merge(df['is_canceled'],df.select_dtypes(include=categorical),left_index=True,right_index=True)\n",
    "\n",
    "df_temp.head()\n",
    "# To verify that we have all the categorical variables that we expect"
   ]
  },
  {
   "cell_type": "markdown",
   "id": "1b8a9fed",
   "metadata": {},
   "source": [
    "#### Observations:\n",
    "\n",
    "- There seem to be many unique values for the 'agent' column, will need to check it and reduce the levels if needed."
   ]
  },
  {
   "cell_type": "code",
   "execution_count": 31,
   "id": "a96bbef9",
   "metadata": {},
   "outputs": [
    {
     "data": {
      "text/plain": [
       "9      0.278670\n",
       "0      0.133377\n",
       "240    0.120577\n",
       "1      0.050271\n",
       "14     0.031680\n",
       "         ...   \n",
       "285    0.000009\n",
       "289    0.000009\n",
       "93     0.000009\n",
       "265    0.000009\n",
       "59     0.000009\n",
       "Name: agent, Length: 333, dtype: float64"
      ]
     },
     "execution_count": 31,
     "metadata": {},
     "output_type": "execute_result"
    }
   ],
   "source": [
    "df_temp['agent'].unique()\n",
    "\n",
    "df.agent.value_counts() / len(df)"
   ]
  },
  {
   "cell_type": "markdown",
   "id": "5f7e857c",
   "metadata": {},
   "source": [
    "The top 5 agents contribute to 61% of bookings. We can keep the top 5 and combine the others into a separate category called \"others\""
   ]
  },
  {
   "cell_type": "code",
   "execution_count": 32,
   "id": "37e9d6a6",
   "metadata": {},
   "outputs": [
    {
     "data": {
      "text/plain": [
       "array([0, 'Other', 240, 9, 1, 14], dtype=object)"
      ]
     },
     "execution_count": 32,
     "metadata": {},
     "output_type": "execute_result"
    }
   ],
   "source": [
    "agent_other_list = np.setdiff1d(df.agent.unique(),[9,0,240,1,14])\n",
    "\n",
    "df['agent'] = df['agent'].replace(agent_other_list, 'Other')\n",
    "\n",
    "df['agent'].unique()"
   ]
  },
  {
   "cell_type": "code",
   "execution_count": 33,
   "id": "23ece8fb",
   "metadata": {},
   "outputs": [
    {
     "data": {
      "text/plain": [
       "<seaborn.axisgrid.FacetGrid at 0x2471af59ac0>"
      ]
     },
     "execution_count": 33,
     "metadata": {},
     "output_type": "execute_result"
    },
    {
     "data": {
      "image/png": "[encoded data removed]",
      "text/plain": [
       "<Figure size 426.125x360 with 1 Axes>"
      ]
     },
     "metadata": {
      "needs_background": "light"
     },
     "output_type": "display_data"
    }
   ],
   "source": [
    "chart = sns.catplot(data=df, x='arrival_date_month', hue='is_canceled', kind='count')\n",
    "chart.set_xticklabels(rotation=65, horizontalalignment='right')"
   ]
  },
  {
   "cell_type": "markdown",
   "id": "46bad4ce",
   "metadata": {},
   "source": [
    "There are fewer bookings made between November and January versus other months. The count of is_canceled = 1 and 0 remains relatively the same."
   ]
  },
  {
   "cell_type": "code",
   "execution_count": 34,
   "id": "8a34bed8",
   "metadata": {},
   "outputs": [
    {
     "data": {
      "text/plain": [
       "BB           0.772712\n",
       "HB           0.119239\n",
       "SC           0.091312\n",
       "Undefined    0.009895\n",
       "FB           0.006842\n",
       "Name: meal, dtype: float64"
      ]
     },
     "execution_count": 34,
     "metadata": {},
     "output_type": "execute_result"
    }
   ],
   "source": [
    "df_temp['meal'].unique()\n",
    "\n",
    "df.meal.value_counts() / len(df)"
   ]
  },
  {
   "cell_type": "code",
   "execution_count": 35,
   "id": "357a38dc",
   "metadata": {},
   "outputs": [],
   "source": [
    "df['meal'] = df['meal'].replace('Undefined', 'SC')"
   ]
  },
  {
   "cell_type": "markdown",
   "id": "3852985f",
   "metadata": {},
   "source": [
    "Undefined can be changed to \"SC\", as both indicate no meal."
   ]
  },
  {
   "cell_type": "code",
   "execution_count": 36,
   "id": "6416376c",
   "metadata": {
    "scrolled": false
   },
   "outputs": [
    {
     "data": {
      "text/plain": [
       "<seaborn.axisgrid.FacetGrid at 0x2471af59be0>"
      ]
     },
     "execution_count": 36,
     "metadata": {},
     "output_type": "execute_result"
    },
    {
     "data": {
      "image/png": "[encoded data removed]",
      "text/plain": [
       "<Figure size 426.125x360 with 1 Axes>"
      ]
     },
     "metadata": {
      "needs_background": "light"
     },
     "output_type": "display_data"
    }
   ],
   "source": [
    "chart = sns.catplot(data=df, x='meal', hue='is_canceled', kind='count')\n",
    "chart.set_xticklabels(rotation=65, horizontalalignment='right')"
   ]
  },
  {
   "cell_type": "markdown",
   "id": "f041d911",
   "metadata": {},
   "source": [
    "There does not seem to be much variation between each meal type. While the BB meal has the highest number of bookings (counts are high), the number of is_canceled = 1 vs. is_canceled = 0 is relatively the same (the ratio) across all meal types. This may indicate that it is not a strong variable to determine is_canceled."
   ]
  },
  {
   "cell_type": "code",
   "execution_count": 37,
   "id": "3ee121c7",
   "metadata": {},
   "outputs": [
    {
     "data": {
      "text/plain": [
       "Online TA        0.490761\n",
       "Offline TA/TO    0.200140\n",
       "Groups           0.152756\n",
       "Direct           0.108154\n",
       "Corporate        0.045608\n",
       "Aviation         0.002021\n",
       "Complementary    0.000542\n",
       "Undefined        0.000017\n",
       "Name: market_segment, dtype: float64"
      ]
     },
     "execution_count": 37,
     "metadata": {},
     "output_type": "execute_result"
    }
   ],
   "source": [
    "df_temp['market_segment'].unique()\n",
    "\n",
    "df.market_segment.value_counts() / len(df)"
   ]
  },
  {
   "cell_type": "markdown",
   "id": "05b6ab1c",
   "metadata": {},
   "source": [
    "99% of the data is explained by the first 5 categories. We will group the rest into \"Other\""
   ]
  },
  {
   "cell_type": "code",
   "execution_count": 38,
   "id": "3baded2b",
   "metadata": {},
   "outputs": [],
   "source": [
    "df['market_segment'] = df['market_segment'].replace(['Aviation', 'Complementary', 'Undefined'], 'Other')"
   ]
  },
  {
   "cell_type": "code",
   "execution_count": 39,
   "id": "6144dca8",
   "metadata": {},
   "outputs": [
    {
     "data": {
      "text/plain": [
       "<seaborn.axisgrid.FacetGrid at 0x2471af3ad00>"
      ]
     },
     "execution_count": 39,
     "metadata": {},
     "output_type": "execute_result"
    },
    {
     "data": {
      "image/png": "[encoded data removed]",
      "text/plain": [
       "<Figure size 426.125x360 with 1 Axes>"
      ]
     },
     "metadata": {
      "needs_background": "light"
     },
     "output_type": "display_data"
    }
   ],
   "source": [
    "chart = sns.catplot(data=df, x='market_segment', hue='is_canceled', kind='count')\n",
    "chart.set_xticklabels(rotation=65, horizontalalignment='right')"
   ]
  },
  {
   "cell_type": "markdown",
   "id": "1efe0fee",
   "metadata": {},
   "source": [
    "We notice that there is a variation in the counts of is_canceled = 1 between various market segments. Direct shows low is_canceled = 1, whereas Groups has is_canceled = 1 counts higher than is_canceled = 0."
   ]
  },
  {
   "cell_type": "code",
   "execution_count": 40,
   "id": "b562a3aa",
   "metadata": {},
   "outputs": [
    {
     "data": {
      "text/plain": [
       "TA/TO        0.821374\n",
       "Direct       0.120849\n",
       "Corporate    0.056080\n",
       "GDS          0.001654\n",
       "Undefined    0.000044\n",
       "Name: distribution_channel, dtype: float64"
      ]
     },
     "execution_count": 40,
     "metadata": {},
     "output_type": "execute_result"
    }
   ],
   "source": [
    "df_temp['distribution_channel'].unique()\n",
    "\n",
    "df.distribution_channel.value_counts() / len(df)"
   ]
  },
  {
   "cell_type": "markdown",
   "id": "7b960bc4",
   "metadata": {},
   "source": [
    "99% of the data is explained by the first 3 categories. We will group the rest into \"Other\""
   ]
  },
  {
   "cell_type": "code",
   "execution_count": 41,
   "id": "0de4d066",
   "metadata": {},
   "outputs": [],
   "source": [
    "df['distribution_channel'] = df['distribution_channel'].replace(['GDS', 'Undefined'], 'Other')"
   ]
  },
  {
   "cell_type": "code",
   "execution_count": 42,
   "id": "ac4311ea",
   "metadata": {},
   "outputs": [
    {
     "data": {
      "text/plain": [
       "<seaborn.axisgrid.FacetGrid at 0x2471ad344f0>"
      ]
     },
     "execution_count": 42,
     "metadata": {},
     "output_type": "execute_result"
    },
    {
     "data": {
      "image/png": "[encoded data removed]",
      "text/plain": [
       "<Figure size 426.125x360 with 1 Axes>"
      ]
     },
     "metadata": {
      "needs_background": "light"
     },
     "output_type": "display_data"
    }
   ],
   "source": [
    "chart = sns.catplot(data=df, x='distribution_channel', hue='is_canceled', kind='count')\n",
    "chart.set_xticklabels(rotation=65, horizontalalignment='right')"
   ]
  },
  {
   "cell_type": "markdown",
   "id": "ab34941c",
   "metadata": {},
   "source": [
    "While there is some variation observed, it seems that the distribution_channel column follows a similar pattern versus the market segment column (the values are similar). The market segment column is a better one to use as it has more unique values, and the degree of variation is higher."
   ]
  },
  {
   "cell_type": "code",
   "execution_count": 43,
   "id": "6bfa8f7a",
   "metadata": {},
   "outputs": [
    {
     "data": {
      "text/plain": [
       "A    0.713088\n",
       "D    0.166150\n",
       "E    0.055809\n",
       "F    0.024698\n",
       "G    0.017550\n",
       "B    0.009475\n",
       "C    0.007970\n",
       "H    0.005206\n",
       "L    0.000052\n",
       "Name: reserved_room_type, dtype: float64"
      ]
     },
     "execution_count": 43,
     "metadata": {},
     "output_type": "execute_result"
    }
   ],
   "source": [
    "df_temp['reserved_room_type'].unique()\n",
    "\n",
    "df.reserved_room_type.value_counts() / len(df)"
   ]
  },
  {
   "cell_type": "markdown",
   "id": "5f7581bc",
   "metadata": {},
   "source": [
    "98% of reserved room types are explained by the first 5 categories. We will group the rest into \"Other\""
   ]
  },
  {
   "cell_type": "code",
   "execution_count": 44,
   "id": "a5cae736",
   "metadata": {},
   "outputs": [],
   "source": [
    "df['reserved_room_type'] = df['reserved_room_type'].replace(['B', 'C', 'H', 'L'], 'Other')"
   ]
  },
  {
   "cell_type": "code",
   "execution_count": 45,
   "id": "64ae70e5",
   "metadata": {},
   "outputs": [
    {
     "data": {
      "text/plain": [
       "<seaborn.axisgrid.FacetGrid at 0x2471ad64f40>"
      ]
     },
     "execution_count": 45,
     "metadata": {},
     "output_type": "execute_result"
    },
    {
     "data": {
      "image/png": "[encoded data removed]",
      "text/plain": [
       "<Figure size 426.125x360 with 1 Axes>"
      ]
     },
     "metadata": {
      "needs_background": "light"
     },
     "output_type": "display_data"
    }
   ],
   "source": [
    "chart = sns.catplot(data=df, x='reserved_room_type', hue='is_canceled', kind='count')\n",
    "chart.set_xticklabels(rotation=65, horizontalalignment='right')"
   ]
  },
  {
   "cell_type": "markdown",
   "id": "8e7c4d2e",
   "metadata": {},
   "source": [
    "There does not seem to be much variation between various reserved room types. This is expected as the customers have made the choice on their preferred room and this preferred / reserved room type is unlikely to have any effect on their decision to cancel the booking."
   ]
  },
  {
   "cell_type": "code",
   "execution_count": 46,
   "id": "9f93eec4",
   "metadata": {
    "scrolled": true
   },
   "outputs": [
    {
     "data": {
      "text/plain": [
       "A    0.614733\n",
       "D    0.218250\n",
       "E    0.066693\n",
       "F    0.031864\n",
       "G    0.021461\n",
       "C    0.020192\n",
       "B    0.017988\n",
       "H    0.006124\n",
       "I    0.001400\n",
       "K    0.001286\n",
       "L    0.000009\n",
       "Name: assigned_room_type, dtype: float64"
      ]
     },
     "execution_count": 46,
     "metadata": {},
     "output_type": "execute_result"
    }
   ],
   "source": [
    "df_temp['assigned_room_type'].unique()\n",
    "\n",
    "df.assigned_room_type.value_counts() / len(df)"
   ]
  },
  {
   "cell_type": "markdown",
   "id": "62b6b208",
   "metadata": {},
   "source": [
    "99% of assigned room types are explained by the first 6 categories. We will group the rest into \"Other\""
   ]
  },
  {
   "cell_type": "code",
   "execution_count": 47,
   "id": "435442da",
   "metadata": {},
   "outputs": [],
   "source": [
    "df['assigned_room_type'] = df['assigned_room_type'].replace(['B','H','I','K','L'], 'Other')"
   ]
  },
  {
   "cell_type": "code",
   "execution_count": 48,
   "id": "d0d92adc",
   "metadata": {},
   "outputs": [
    {
     "data": {
      "text/plain": [
       "<seaborn.axisgrid.FacetGrid at 0x2471ae29a30>"
      ]
     },
     "execution_count": 48,
     "metadata": {},
     "output_type": "execute_result"
    },
    {
     "data": {
      "image/png": "[encoded data removed]",
      "text/plain": [
       "<Figure size 426.125x360 with 1 Axes>"
      ]
     },
     "metadata": {
      "needs_background": "light"
     },
     "output_type": "display_data"
    }
   ],
   "source": [
    "chart = sns.catplot(data=df, x='assigned_room_type', hue='is_canceled', kind='count')\n",
    "chart.set_xticklabels(rotation=65, horizontalalignment='right')"
   ]
  },
  {
   "cell_type": "markdown",
   "id": "0ab2de62",
   "metadata": {},
   "source": [
    "There is some variation observable here. We do see that the assigned room type A has a much higher count of is_canceled = 1 versus other assigned room types.\n",
    "\n",
    "Based on the analyses above, we drop these columns - reserved_room_type, distribution_channel, meal. These will be dropped in the feature engineering section below."
   ]
  },
  {
   "cell_type": "code",
   "execution_count": 49,
   "id": "3c0f33fd",
   "metadata": {},
   "outputs": [
    {
     "data": {
      "text/plain": [
       "<seaborn.axisgrid.FacetGrid at 0x2471aea9910>"
      ]
     },
     "execution_count": 49,
     "metadata": {},
     "output_type": "execute_result"
    },
    {
     "data": {
      "image/png": "[encoded data removed]",
      "text/plain": [
       "<Figure size 426.125x360 with 1 Axes>"
      ]
     },
     "metadata": {
      "needs_background": "light"
     },
     "output_type": "display_data"
    }
   ],
   "source": [
    "chart = sns.catplot(data=df, x='customer_type', hue='is_canceled', kind='count')\n",
    "chart.set_xticklabels(rotation=65, horizontalalignment='right')"
   ]
  },
  {
   "cell_type": "markdown",
   "id": "2e08f868",
   "metadata": {},
   "source": [
    "There is some variance observable in customer_type. The Transient customer type seems to have more is_canceled = 1 entries versus others."
   ]
  },
  {
   "cell_type": "code",
   "execution_count": 50,
   "id": "2f4a3087",
   "metadata": {},
   "outputs": [
    {
     "data": {
      "text/plain": [
       "<seaborn.axisgrid.FacetGrid at 0x2471ae30f70>"
      ]
     },
     "execution_count": 50,
     "metadata": {},
     "output_type": "execute_result"
    },
    {
     "data": {
      "image/png": "[encoded data removed]",
      "text/plain": [
       "<Figure size 426.125x360 with 1 Axes>"
      ]
     },
     "metadata": {
      "needs_background": "light"
     },
     "output_type": "display_data"
    }
   ],
   "source": [
    "chart = sns.catplot(data=df, x='agent', hue='is_canceled', kind='count')\n",
    "chart.set_xticklabels(rotation=65, horizontalalignment='right')"
   ]
  },
  {
   "cell_type": "markdown",
   "id": "7ddcf473",
   "metadata": {},
   "source": [
    "There is variance observable in the agent column. Agent 1 also shows more is_canceled = 1 entries than is_canceled = 0."
   ]
  },
  {
   "cell_type": "markdown",
   "id": "4f7757a4",
   "metadata": {},
   "source": [
    "><h3>Feature Engineering</h3>\n",
    "We create some custom features that would be useful for the prediction of is_canceled. These features are representations of existing variables. We also update the values of the month column to reflect \"month number\" rather than \"month name\""
   ]
  },
  {
   "cell_type": "code",
   "execution_count": 51,
   "id": "c0ceb719",
   "metadata": {},
   "outputs": [],
   "source": [
    "def roomChange(row):\n",
    "    if row['assigned_room_type'] == row['reserved_room_type']:\n",
    "        return 0\n",
    "    else:\n",
    "        return 1\n",
    "\n",
    "df['change_in_room'] = df.apply(roomChange, axis=1)\n",
    "df['change_in_room'] = df['change_in_room'].astype(\"object\")"
   ]
  },
  {
   "cell_type": "markdown",
   "id": "d41085f5",
   "metadata": {},
   "source": [
    "One potential cause for customer dissatisfaction (that could lead to cancelation) is when the actual (assigned) room is different versus the preferred (reserved) room. We model this using a new variable - \"change in room\", which is 1 is the room is different, and 0 if the room is the same.\n",
    "\n",
    "This also represents some part of reserved room type (when combined with assigned room type)."
   ]
  },
  {
   "cell_type": "code",
   "execution_count": 52,
   "id": "11561a6d",
   "metadata": {},
   "outputs": [],
   "source": [
    "df = df.drop(columns = ['reserved_room_type', 'distribution_channel', 'meal'])"
   ]
  },
  {
   "cell_type": "markdown",
   "id": "bc1e3265",
   "metadata": {},
   "source": [
    "# Data Preparation\n",
    "\n",
    "Now that we have completed the Exploratory Data Analysis and have prepared the columns in the data to be ready for modeling - we can now begin to set up the features and target variable for inclusion in the model function."
   ]
  },
  {
   "cell_type": "code",
   "execution_count": 53,
   "id": "ac64ef67",
   "metadata": {},
   "outputs": [],
   "source": [
    "df_original = df\n",
    "\n",
    "cat_vars = df.select_dtypes(include=categorical).columns\n",
    "\n",
    "for var in cat_vars:\n",
    "    df[var] = df[var].astype(\"category\")\n",
    "\n",
    "df = pd.get_dummies(df,columns=cat_vars, prefix_sep='_', drop_first=True)"
   ]
  },
  {
   "cell_type": "markdown",
   "id": "7729c5b6",
   "metadata": {},
   "source": [
    "We select only the categorical variables for preparation of dummy columns. N-1 dummy columns are created (by using drop_first = True)"
   ]
  },
  {
   "cell_type": "code",
   "execution_count": 54,
   "id": "c87783b0",
   "metadata": {},
   "outputs": [
    {
     "name": "stdout",
     "output_type": "stream",
     "text": [
      "<class 'pandas.core.frame.DataFrame'>\n",
      "Int64Index: 114300 entries, 2 to 119389\n",
      "Data columns (total 47 columns):\n",
      " #   Column                         Non-Null Count   Dtype  \n",
      "---  ------                         --------------   -----  \n",
      " 0   is_canceled                    114300 non-null  int64  \n",
      " 1   lead_time                      114300 non-null  int64  \n",
      " 2   stays_in_weekend_nights        114300 non-null  int64  \n",
      " 3   stays_in_week_nights           114300 non-null  int64  \n",
      " 4   adults                         114300 non-null  int64  \n",
      " 5   booking_changes                114300 non-null  int64  \n",
      " 6   adr                            114300 non-null  float64\n",
      " 7   required_car_parking_spaces    114300 non-null  int64  \n",
      " 8   total_of_special_requests      114300 non-null  int64  \n",
      " 9   cancellation_rate              114300 non-null  float64\n",
      " 10  total_bookings                 114300 non-null  int64  \n",
      " 11  total_children                 114300 non-null  int64  \n",
      " 12  hotel_Resort Hotel             114300 non-null  uint8  \n",
      " 13  arrival_date_month_August      114300 non-null  uint8  \n",
      " 14  arrival_date_month_December    114300 non-null  uint8  \n",
      " 15  arrival_date_month_February    114300 non-null  uint8  \n",
      " 16  arrival_date_month_January     114300 non-null  uint8  \n",
      " 17  arrival_date_month_July        114300 non-null  uint8  \n",
      " 18  arrival_date_month_June        114300 non-null  uint8  \n",
      " 19  arrival_date_month_March       114300 non-null  uint8  \n",
      " 20  arrival_date_month_May         114300 non-null  uint8  \n",
      " 21  arrival_date_month_November    114300 non-null  uint8  \n",
      " 22  arrival_date_month_October     114300 non-null  uint8  \n",
      " 23  arrival_date_month_September   114300 non-null  uint8  \n",
      " 24  market_segment_Direct          114300 non-null  uint8  \n",
      " 25  market_segment_Groups          114300 non-null  uint8  \n",
      " 26  market_segment_Offline TA/TO   114300 non-null  uint8  \n",
      " 27  market_segment_Online TA       114300 non-null  uint8  \n",
      " 28  market_segment_Other           114300 non-null  uint8  \n",
      " 29  is_repeated_guest_1            114300 non-null  uint8  \n",
      " 30  assigned_room_type_C           114300 non-null  uint8  \n",
      " 31  assigned_room_type_D           114300 non-null  uint8  \n",
      " 32  assigned_room_type_E           114300 non-null  uint8  \n",
      " 33  assigned_room_type_F           114300 non-null  uint8  \n",
      " 34  assigned_room_type_G           114300 non-null  uint8  \n",
      " 35  assigned_room_type_Other       114300 non-null  uint8  \n",
      " 36  deposit_type_Non Refund        114300 non-null  uint8  \n",
      " 37  deposit_type_Refundable        114300 non-null  uint8  \n",
      " 38  agent_1                        114300 non-null  uint8  \n",
      " 39  agent_9                        114300 non-null  uint8  \n",
      " 40  agent_14                       114300 non-null  uint8  \n",
      " 41  agent_240                      114300 non-null  uint8  \n",
      " 42  agent_Other                    114300 non-null  uint8  \n",
      " 43  customer_type_Group            114300 non-null  uint8  \n",
      " 44  customer_type_Transient        114300 non-null  uint8  \n",
      " 45  customer_type_Transient-Party  114300 non-null  uint8  \n",
      " 46  change_in_room_1               114300 non-null  uint8  \n",
      "dtypes: float64(2), int64(10), uint8(35)\n",
      "memory usage: 19.2 MB\n"
     ]
    }
   ],
   "source": [
    "df.info()"
   ]
  },
  {
   "cell_type": "markdown",
   "id": "12fe9e0e",
   "metadata": {},
   "source": [
    "All dummy columns were successfully created, and our final dataset is ready for splitting into test and train."
   ]
  },
  {
   "cell_type": "markdown",
   "id": "db6d8b0f",
   "metadata": {},
   "source": [
    "><h3>Selection of Train & Test data</h3>\n",
    "Now that we have completed all of the aforementioned steps, we can create the testing and training dataset by choosing a random sample of 70% of the data for training purposes, while the remaining 30% is used for testing the model output to determine accuracy."
   ]
  },
  {
   "cell_type": "code",
   "execution_count": 55,
   "id": "083b2798",
   "metadata": {},
   "outputs": [],
   "source": [
    "predictors = df.columns.drop('is_canceled')\n",
    "\n",
    "# We have split the predictors and target variable (above and below are just lists that contain their names)\n",
    "\n",
    "target = ['is_canceled']\n",
    "\n",
    "X = df[predictors]\n",
    "y = df[target]\n",
    "\n",
    "# We have X, which is our set of independent variables. Y is our target variable\n",
    "\n",
    "X_train_encoded,X_test_encoded,y_train_encoded,y_test_encoded = train_test_split(X,y, test_size=0.3,random_state=2)\n",
    "\n",
    "predictors = df_original.columns.drop('is_canceled')\n",
    "\n",
    "X = df_original[predictors]\n",
    "y = df_original[target]\n",
    "\n",
    "X_train_original,X_test_original,y_train_original,y_test_original = train_test_split(X,y, test_size=0.3,random_state=2)"
   ]
  },
  {
   "cell_type": "markdown",
   "id": "b4c868b8",
   "metadata": {},
   "source": [
    "We create 2 versions of our training data. One version (_ encoded) contains the numerical variables + encoded categorical variables. The other version (_ original) contains the numerical variables + original categorical variables. This is just so that we have options of data that we can use for each of our 5 models."
   ]
  },
  {
   "cell_type": "code",
   "execution_count": 56,
   "id": "ed9f8236",
   "metadata": {},
   "outputs": [],
   "source": [
    "# Normalize predictor variables using Z-Scores.\n",
    "# Use means and standard deviations of features as calculated in the TRAINING DATA\n",
    "# New values are centered at 0.  Values reflect the number of standard deviations\n",
    "# each record is above or below the mean.\n",
    "\n",
    "# Note - this is done only for numeric variables. Hence, we first separate categorical and numeric before we normalize.\n",
    "#X_train_original = X_train\n",
    "#X_test_original = X_test\n",
    "\n",
    "X_train_dummy_encoded = X_train_encoded.iloc[:,15:]\n",
    "X_train_dummy_original = X_train_original.iloc[:,15:]\n",
    "X_train = X_train_encoded.iloc[:,0:14]\n",
    "\n",
    "X_test_dummy_encoded = X_test_encoded.iloc[:,15:]\n",
    "X_test_dummy_original = X_test_original.iloc[:,15:]\n",
    "X_test = X_test_encoded.iloc[:,0:14]\n",
    "\n",
    "features_means = X_train.mean()\n",
    "features_std = X_train.std()\n",
    "\n",
    "X_train_norm = (X_train - features_means)/features_std\n",
    "X_test_norm = (X_test - features_means)/features_std\n",
    "\n",
    "X_train_encoded_norm = pd.concat([X_train_norm, X_train_dummy_encoded], axis=1)\n",
    "X_test_encoded_norm = pd.concat([X_test_norm, X_test_dummy_encoded], axis=1)\n",
    "\n",
    "X_train_encoded = pd.concat([X_train, X_train_dummy_encoded], axis=1)\n",
    "X_test_encoded = pd.concat([X_test, X_test_dummy_encoded], axis=1)\n",
    "\n",
    "X_train_original = pd.concat([X_train, X_train_dummy_original], axis=1)\n",
    "X_test_original = pd.concat([X_test, X_test_dummy_original], axis=1)"
   ]
  },
  {
   "cell_type": "markdown",
   "id": "5dd8afb5",
   "metadata": {},
   "source": [
    "We normalize our data (the numerical variables). First, we split the categorical and numeric data. \n",
    "\n",
    "Next, we find the mean and standard deviation of our training data.\n",
    "\n",
    "Finally, we create the new training data. We create different versions (normalized numeric + encoded categorical, original numeric + encoded categorical, original numeric + original categorical) of the training data so that we can use it (as required) in each of our 5 models"
   ]
  },
  {
   "cell_type": "markdown",
   "id": "538f5f52",
   "metadata": {},
   "source": [
    "# Model Building & Evaluation\n",
    "\n",
    "Now that our split (train / test) data is ready, we can start to build our linear regression models"
   ]
  },
  {
   "cell_type": "markdown",
   "id": "c56573ac",
   "metadata": {},
   "source": [
    "><h3>Logistic Regression  </h3>\n",
    "We implement a logistic regression model, while utilizing GridSearchCV to find the optimal hyperparameters"
   ]
  },
  {
   "cell_type": "code",
   "execution_count": 57,
   "id": "68ebc659",
   "metadata": {},
   "outputs": [],
   "source": [
    "st = time.time() # To record start time"
   ]
  },
  {
   "cell_type": "code",
   "execution_count": 58,
   "id": "a5f57f78",
   "metadata": {},
   "outputs": [],
   "source": [
    "param_grid = {\n",
    "    'C': np.logspace(-3,3,7), \n",
    "    'penalty': ['none','l2']\n",
    "}"
   ]
  },
  {
   "cell_type": "markdown",
   "id": "e6297d40",
   "metadata": {},
   "source": [
    "We initialize a grid of parameters which will be used by GridSearchCV to finetune the hyperparameters of LogisticRegression. The parameters we tune are C and the penalty."
   ]
  },
  {
   "cell_type": "code",
   "execution_count": 59,
   "id": "3607b00b",
   "metadata": {},
   "outputs": [
    {
     "name": "stdout",
     "output_type": "stream",
     "text": [
      "Fitting 5 folds for each of 14 candidates, totalling 70 fits\n",
      "Initial score:  0.816960379952506\n",
      "Initial parameters:  {'C': 0.01, 'penalty': 'l2'}\n"
     ]
    }
   ],
   "source": [
    "gridSearch = GridSearchCV(LogisticRegression(max_iter=500), \n",
    "                          param_grid, \n",
    "                          cv=5,\n",
    "                          n_jobs=-1,  #used to marshall all available CPUs\n",
    "                          verbose=4\n",
    "                         )\n",
    "\n",
    "gridSearch.fit(X_train_encoded_norm,y_train_encoded.values.ravel())\n",
    "\n",
    "print('Initial score: ', gridSearch.best_score_)\n",
    "print('Initial parameters: ', gridSearch.best_params_)"
   ]
  },
  {
   "cell_type": "markdown",
   "id": "b1675a88",
   "metadata": {},
   "source": [
    "GridSearchCV finds the optimal combination of hyperparameters that gives the best score. This is the ideal model and we use this when comparing with models created through other algorithms"
   ]
  },
  {
   "cell_type": "code",
   "execution_count": 60,
   "id": "bd42856a",
   "metadata": {},
   "outputs": [
    {
     "name": "stdout",
     "output_type": "stream",
     "text": [
      "Training data Accuracy: 0.82\n",
      "Testing data Accuracy: 0.82\n"
     ]
    }
   ],
   "source": [
    "bestLRModel = gridSearch.best_estimator_\n",
    "\n",
    "y_train_pred_class = bestLRModel.predict(X_train_encoded_norm)\n",
    "y_test_pred_class = bestLRModel.predict(X_test_encoded_norm)\n",
    "\n",
    "print('Training data Accuracy:', metrics.accuracy_score(y_train_encoded,y_train_pred_class).round(2))\n",
    "print('Testing data Accuracy:', metrics.accuracy_score(y_test_encoded,y_test_pred_class).round(2))"
   ]
  },
  {
   "cell_type": "markdown",
   "id": "7d1b8380",
   "metadata": {},
   "source": [
    "There is no evidence of overfitting as the train and test accuracy are the same (82%)"
   ]
  },
  {
   "cell_type": "code",
   "execution_count": 61,
   "id": "3157423c",
   "metadata": {},
   "outputs": [
    {
     "name": "stdout",
     "output_type": "stream",
     "text": [
      "67.3503053188324\n"
     ]
    }
   ],
   "source": [
    "et = time.time()\n",
    "runtime = et-st\n",
    "print(runtime)"
   ]
  },
  {
   "cell_type": "markdown",
   "id": "35fd54d5",
   "metadata": {},
   "source": [
    "It took around 67 seconds to run the Logistic Regression model."
   ]
  },
  {
   "cell_type": "markdown",
   "id": "3152152e",
   "metadata": {},
   "source": [
    "> **kNN** <a class=\"anchor\" id=\"first-model\"></a>\n",
    "<br>\n",
    ">Steps to Complete:<br>\n",
    ">1. Fit numerous kNN models using different values for k. <br>\n",
    ">2. Choose the \"best\" value for \"k\" based on Accuracy\n",
    ">3. Ensure a k value that is not too low (leads to overfitting) and not too high (leads to underfitting)"
   ]
  },
  {
   "cell_type": "code",
   "execution_count": 62,
   "id": "4e390159",
   "metadata": {},
   "outputs": [],
   "source": [
    "#k_range = list(range(1, 22, 2))\n",
    "#param_grid = dict(n_neighbors=k_range)"
   ]
  },
  {
   "cell_type": "code",
   "execution_count": 63,
   "id": "fb3bee9e",
   "metadata": {},
   "outputs": [],
   "source": [
    "#gridSearch = GridSearchCV(KNeighborsClassifier(), \n",
    "#                          param_grid, \n",
    "#                          cv=5,\n",
    "#                          n_jobs=-1  #used to marshall all available CPUs\n",
    "#                         )\n",
    "#gridSearch.fit(X_train_encoded_norm,y_train_encoded.values.ravel())\n",
    "\n",
    "#print('Initial score: ', gridSearch.best_score_)\n",
    "#print('Initial parameters: ', gridSearch.best_params_)"
   ]
  },
  {
   "cell_type": "markdown",
   "id": "f393468a",
   "metadata": {},
   "source": [
    "Above is a potential implementation of GridSearchCV for KNN. This is computationally intensive and was not feasible to run on my system, hence I am going with the conventional approach of determining the ideal k"
   ]
  },
  {
   "cell_type": "code",
   "execution_count": 64,
   "id": "167cedb3",
   "metadata": {},
   "outputs": [],
   "source": [
    "st = time.time() # We record the start time"
   ]
  },
  {
   "cell_type": "code",
   "execution_count": 65,
   "id": "0505d3c9",
   "metadata": {},
   "outputs": [
    {
     "data": {
      "text/html": [
       "<div>\n",
       "<style scoped>\n",
       "    .dataframe tbody tr th:only-of-type {\n",
       "        vertical-align: middle;\n",
       "    }\n",
       "\n",
       "    .dataframe tbody tr th {\n",
       "        vertical-align: top;\n",
       "    }\n",
       "\n",
       "    .dataframe thead th {\n",
       "        text-align: right;\n",
       "    }\n",
       "</style>\n",
       "<table border=\"1\" class=\"dataframe\">\n",
       "  <thead>\n",
       "    <tr style=\"text-align: right;\">\n",
       "      <th></th>\n",
       "      <th>k</th>\n",
       "      <th>accuracy</th>\n",
       "    </tr>\n",
       "  </thead>\n",
       "  <tbody>\n",
       "    <tr>\n",
       "      <th>0</th>\n",
       "      <td>1</td>\n",
       "      <td>0.813036</td>\n",
       "    </tr>\n",
       "    <tr>\n",
       "      <th>1</th>\n",
       "      <td>3</td>\n",
       "      <td>0.819889</td>\n",
       "    </tr>\n",
       "    <tr>\n",
       "      <th>2</th>\n",
       "      <td>5</td>\n",
       "      <td>0.823768</td>\n",
       "    </tr>\n",
       "    <tr>\n",
       "      <th>3</th>\n",
       "      <td>7</td>\n",
       "      <td>0.824293</td>\n",
       "    </tr>\n",
       "    <tr>\n",
       "      <th>4</th>\n",
       "      <td>9</td>\n",
       "      <td>0.825868</td>\n",
       "    </tr>\n",
       "    <tr>\n",
       "      <th>5</th>\n",
       "      <td>11</td>\n",
       "      <td>0.824789</td>\n",
       "    </tr>\n",
       "    <tr>\n",
       "      <th>6</th>\n",
       "      <td>13</td>\n",
       "      <td>0.824643</td>\n",
       "    </tr>\n",
       "    <tr>\n",
       "      <th>7</th>\n",
       "      <td>15</td>\n",
       "      <td>0.823797</td>\n",
       "    </tr>\n",
       "    <tr>\n",
       "      <th>8</th>\n",
       "      <td>17</td>\n",
       "      <td>0.822776</td>\n",
       "    </tr>\n",
       "    <tr>\n",
       "      <th>9</th>\n",
       "      <td>19</td>\n",
       "      <td>0.822310</td>\n",
       "    </tr>\n",
       "    <tr>\n",
       "      <th>10</th>\n",
       "      <td>21</td>\n",
       "      <td>0.820647</td>\n",
       "    </tr>\n",
       "  </tbody>\n",
       "</table>\n",
       "</div>"
      ],
      "text/plain": [
       "     k  accuracy\n",
       "0    1  0.813036\n",
       "1    3  0.819889\n",
       "2    5  0.823768\n",
       "3    7  0.824293\n",
       "4    9  0.825868\n",
       "5   11  0.824789\n",
       "6   13  0.824643\n",
       "7   15  0.823797\n",
       "8   17  0.822776\n",
       "9   19  0.822310\n",
       "10  21  0.820647"
      ]
     },
     "execution_count": 65,
     "metadata": {},
     "output_type": "execute_result"
    }
   ],
   "source": [
    "# 1. train a classifier for different values of k\n",
    "results = []\n",
    "for k in [1,3,5,7,9,11,13,15,17,19,21]:\n",
    "    #print(k)\n",
    "    knn = KNeighborsClassifier(n_neighbors=k)\n",
    "    knn.fit(X_train_encoded_norm,y_train_encoded.values.ravel())\n",
    "    \n",
    "    # Get predicted class\n",
    "    y_pred_class = knn.predict(X_test_encoded_norm)\n",
    "    \n",
    "    # Put Accuracy Score in results object\n",
    "    results.append({'k':k,\n",
    "                    'accuracy':metrics.accuracy_score(y_test_encoded,y_pred_class)\n",
    "                   }\n",
    "                  )\n",
    "# Put results from above into a Pandas Dataframe\n",
    "results_df = pd.DataFrame(results)\n",
    "results_df"
   ]
  },
  {
   "cell_type": "markdown",
   "id": "b3822c92",
   "metadata": {},
   "source": [
    ">**Decision:**<br>\n",
    "Based on the results above, I will set my number of neighbors (k) to 7 as this is the lowest value of k that achieves the highest accuracy value (82%). I do not choose higher values of k even though they have higher accuracy as this may lead to issues with the model performance <br>\n",
    "\n",
    ">**Re-run kNN using the value selected above:**<br>\n",
    "This final run of kNN will be used when comparing with models from other algorithms"
   ]
  },
  {
   "cell_type": "code",
   "execution_count": 66,
   "id": "7fedd9cc",
   "metadata": {},
   "outputs": [
    {
     "name": "stdout",
     "output_type": "stream",
     "text": [
      "Training data Accuracy: 0.87\n",
      "Testing data Accuracy: 0.82\n"
     ]
    }
   ],
   "source": [
    "knn = KNeighborsClassifier(n_neighbors=7)\n",
    "knn.fit(X_train_encoded_norm,y_train_encoded.values.ravel())\n",
    "\n",
    "# Let's do a quick check to see if we have to worry about problems of overfitting.\n",
    "# Remember!  Small values for \"k\" in kNN tend to lead to overfitting.\n",
    "# Large value for \"k\" in kNN tend to produce underfit models\n",
    "y_train_pred_class = knn.predict(X_train_encoded_norm)\n",
    "y_test_pred_class = knn.predict(X_test_encoded_norm)\n",
    "\n",
    "print('Training data Accuracy:', metrics.accuracy_score(y_train_encoded,y_train_pred_class).round(2))\n",
    "print('Testing data Accuracy:', metrics.accuracy_score(y_test_encoded,y_test_pred_class).round(2))"
   ]
  },
  {
   "cell_type": "markdown",
   "id": "81b60d72",
   "metadata": {},
   "source": [
    "There is no major evidence of overfitting as the train and test accuracy are relatively similar (87% vs. 82%)"
   ]
  },
  {
   "cell_type": "code",
   "execution_count": 67,
   "id": "f12d0106",
   "metadata": {},
   "outputs": [
    {
     "name": "stdout",
     "output_type": "stream",
     "text": [
      "996.7300174236298\n"
     ]
    }
   ],
   "source": [
    "et = time.time()\n",
    "runtime = et-st\n",
    "print(runtime)"
   ]
  },
  {
   "cell_type": "markdown",
   "id": "032f9d02",
   "metadata": {},
   "source": [
    "It took around 997 seconds to run this model"
   ]
  },
  {
   "cell_type": "markdown",
   "id": "7ecf5ae6",
   "metadata": {},
   "source": [
    "> **Decision Tree** <a class=\"anchor\" id=\"first-model\"></a>\n",
    "<br>\n",
    ">Steps to Complete:<br>\n",
    ">1. Set up the grid of parameters that will be used by GridSearchCV to find the optimal hyperparameters for Decision Tree <br>\n",
    ">2. Obtain the best Decision Tree model from GridSearchCV\n",
    ">3. Check test and train accuracy to verify to overfitting / underfitting problems"
   ]
  },
  {
   "cell_type": "code",
   "execution_count": 68,
   "id": "caa3bd98",
   "metadata": {},
   "outputs": [],
   "source": [
    "st = time.time() # We record the start time"
   ]
  },
  {
   "cell_type": "code",
   "execution_count": 69,
   "id": "b1e4b9bb",
   "metadata": {},
   "outputs": [],
   "source": [
    "param_grid = {\n",
    "    'max_depth': [10, 20, 30, 40],\n",
    "    'min_samples_split': [20, 40, 60, 80, 100],\n",
    "    'min_impurity_decrease': [0, 0.0005, 0.001, 0.005, 0.01]\n",
    "}"
   ]
  },
  {
   "cell_type": "markdown",
   "id": "2dc60b27",
   "metadata": {},
   "source": [
    "We initialize a grid of parameter values that will be used by GridSearchCV to find the optimal hyperparameter values. The parameters we are focusing on for Decision Tree are max_depth, min_samples_split and min_impurity_decrease. The optimal values of these parameters will help to ensure that the tree is pruned in an ideal manner."
   ]
  },
  {
   "cell_type": "code",
   "execution_count": 70,
   "id": "93d95e98",
   "metadata": {},
   "outputs": [
    {
     "name": "stdout",
     "output_type": "stream",
     "text": [
      "Initial score:  0.8299712535933008\n",
      "Initial parameters:  {'max_depth': 20, 'min_impurity_decrease': 0, 'min_samples_split': 60}\n"
     ]
    }
   ],
   "source": [
    "gridSearch = GridSearchCV(DecisionTreeClassifier(random_state=1), \n",
    "                          param_grid, \n",
    "                          cv=5,\n",
    "                          n_jobs=-1  #used to marshall all available CPUs\n",
    "                         )\n",
    "gridSearch.fit(X_train_encoded,y_train_encoded.values.ravel())\n",
    "\n",
    "print('Initial score: ', gridSearch.best_score_)\n",
    "print('Initial parameters: ', gridSearch.best_params_)"
   ]
  },
  {
   "cell_type": "code",
   "execution_count": 71,
   "id": "7add0c74",
   "metadata": {},
   "outputs": [],
   "source": [
    "# Adapt grid based on findings in last cell\n",
    "param_grid = {\n",
    "    'max_depth': [16, 18, 20, 22, 24],\n",
    "    'min_samples_split': [90, 100, 110, 120],\n",
    "    'min_impurity_decrease': [0, 0.0001, 0.0002, 0.0003, 0.0004, 0.0005]\n",
    "}"
   ]
  },
  {
   "cell_type": "markdown",
   "id": "0c2e6fdf",
   "metadata": {},
   "source": [
    "Based on the initial parameters we have obtained earlier, we update our grid of parameters to reflect a range of values that are in a range above and below the initial parameter values. This will help to confirm that we indeed have the parameter values (and that the intial parameters were not a local optima)"
   ]
  },
  {
   "cell_type": "code",
   "execution_count": 72,
   "id": "ebb92e48",
   "metadata": {},
   "outputs": [
    {
     "name": "stdout",
     "output_type": "stream",
     "text": [
      "Improved score:  0.8315710536182976\n",
      "Improved parameters:  {'max_depth': 20, 'min_impurity_decrease': 0.0001, 'min_samples_split': 90}\n"
     ]
    }
   ],
   "source": [
    "gridSearch = GridSearchCV(DecisionTreeClassifier(random_state=1), \n",
    "                          param_grid, \n",
    "                          cv=5,\n",
    "                          n_jobs=-1  #used to marshall all available CPUs\n",
    "                         )\n",
    "gridSearch.fit(X_train_encoded,y_train_encoded.values.ravel())\n",
    "\n",
    "print('Improved score: ', gridSearch.best_score_)\n",
    "print('Improved parameters: ', gridSearch.best_params_)"
   ]
  },
  {
   "cell_type": "code",
   "execution_count": 73,
   "id": "257f2779",
   "metadata": {},
   "outputs": [
    {
     "name": "stdout",
     "output_type": "stream",
     "text": [
      "Training data Accuracy: 0.84\n",
      "Testing data Accuracy: 0.83\n"
     ]
    }
   ],
   "source": [
    "bestClassTree = gridSearch.best_estimator_\n",
    "\n",
    "y_train_pred_class = bestClassTree.predict(X_train_encoded)\n",
    "y_test_pred_class = bestClassTree.predict(X_test_encoded)\n",
    "\n",
    "print('Training data Accuracy:', metrics.accuracy_score(y_train_encoded,y_train_pred_class).round(2))\n",
    "print('Testing data Accuracy:', metrics.accuracy_score(y_test_encoded,y_test_pred_class).round(2))"
   ]
  },
  {
   "cell_type": "markdown",
   "id": "f9bc57b3",
   "metadata": {},
   "source": [
    "There is no evidence of overfitting as the train and test accuracy are similar (84% vs. 83%)"
   ]
  },
  {
   "cell_type": "code",
   "execution_count": 74,
   "id": "11982111",
   "metadata": {},
   "outputs": [
    {
     "name": "stdout",
     "output_type": "stream",
     "text": [
      "191.99890303611755\n"
     ]
    }
   ],
   "source": [
    "et = time.time()\n",
    "runtime = et-st\n",
    "print(runtime)"
   ]
  },
  {
   "cell_type": "markdown",
   "id": "d9902fe9",
   "metadata": {},
   "source": [
    "It took around 192 seconds to run this model."
   ]
  },
  {
   "cell_type": "markdown",
   "id": "1f751ffd",
   "metadata": {},
   "source": [
    "> **Random Forest** <a class=\"anchor\" id=\"first-model\"></a>\n",
    "<br>\n",
    ">Steps to Complete:<br>\n",
    ">1. Set up a grid of parameters that will be used by GridSearchCV to find the optimal hyperparameters for the Random Forest model <br>\n",
    ">2. Obtain the best Random Forest model from GridSearchCV\n",
    ">3. Check test and train accuracy to verify no overfitting or underfitting problems."
   ]
  },
  {
   "cell_type": "code",
   "execution_count": 75,
   "id": "251e0e01",
   "metadata": {},
   "outputs": [],
   "source": [
    "st = time.time() # We record the start time"
   ]
  },
  {
   "cell_type": "code",
   "execution_count": 76,
   "id": "62b1b4b3",
   "metadata": {},
   "outputs": [],
   "source": [
    "param_grid = {\n",
    "    'max_features': ['auto'],\n",
    "    'n_estimators': [100, 200, 300],\n",
    "    'max_depth': [10, 20, 30]\n",
    "}"
   ]
  },
  {
   "cell_type": "markdown",
   "id": "57eab5ec",
   "metadata": {},
   "source": [
    "We initialize a grid of parameter values that will be used by GridSearchCV to find the optimal hyperparameter values. The parameters we are focusing on for Random Forest are max_depth and number of estimators."
   ]
  },
  {
   "cell_type": "code",
   "execution_count": 77,
   "id": "e5dbd062",
   "metadata": {},
   "outputs": [
    {
     "name": "stdout",
     "output_type": "stream",
     "text": [
      "Fitting 5 folds for each of 9 candidates, totalling 45 fits\n",
      "Initial score:  0.8612798400199975\n",
      "Initial parameters:  {'max_depth': 30, 'max_features': 'auto', 'n_estimators': 300}\n"
     ]
    }
   ],
   "source": [
    "gridSearch = GridSearchCV(RandomForestClassifier(random_state=1), \n",
    "                          param_grid, \n",
    "                          cv=5,\n",
    "                          n_jobs=-1,  #used to marshall all available CPUs\n",
    "                          verbose=4\n",
    "                         )\n",
    "\n",
    "gridSearch.fit(X_train_encoded,y_train_encoded.values.ravel())\n",
    "\n",
    "print('Initial score: ', gridSearch.best_score_)\n",
    "print('Initial parameters: ', gridSearch.best_params_)"
   ]
  },
  {
   "cell_type": "code",
   "execution_count": 78,
   "id": "9f1d7027",
   "metadata": {},
   "outputs": [
    {
     "name": "stdout",
     "output_type": "stream",
     "text": [
      "Training data Accuracy: 0.97\n",
      "Testing data Accuracy: 0.87\n"
     ]
    }
   ],
   "source": [
    "bestRandomTree = gridSearch.best_estimator_\n",
    "\n",
    "y_train_pred_class = bestRandomTree.predict(X_train_encoded)\n",
    "y_test_pred_class = bestRandomTree.predict(X_test_encoded)\n",
    "\n",
    "print('Training data Accuracy:', metrics.accuracy_score(y_train_encoded,y_train_pred_class).round(2))\n",
    "print('Testing data Accuracy:', metrics.accuracy_score(y_test_encoded,y_test_pred_class).round(2))"
   ]
  },
  {
   "cell_type": "markdown",
   "id": "5cdc57ba",
   "metadata": {},
   "source": [
    "There is evidence of overfitting as the train accuracy is 10% higher than the test accuracy (97% vs. 87%)"
   ]
  },
  {
   "cell_type": "code",
   "execution_count": 79,
   "id": "924428aa",
   "metadata": {},
   "outputs": [
    {
     "name": "stdout",
     "output_type": "stream",
     "text": [
      "365.57771492004395\n"
     ]
    }
   ],
   "source": [
    "et = time.time()\n",
    "runtime = et-st\n",
    "print(runtime)"
   ]
  },
  {
   "cell_type": "markdown",
   "id": "9e994c6c",
   "metadata": {},
   "source": [
    "This model took around 365 seconds to run"
   ]
  },
  {
   "cell_type": "markdown",
   "id": "b672c344",
   "metadata": {},
   "source": [
    "> **Artificial Neural Network** <a class=\"anchor\" id=\"first-model\"></a>\n",
    "<br>\n",
    ">Steps to Complete:<br>\n",
    ">1. Set up a grid of parameters that will be used by GridSearchCV to find the optimal hyperparameters for the MLP Classifier <br>\n",
    ">2. Obtain the best MLP Classifier model from GridSearchCV\n",
    ">3. Check test and train accuracy to verify no overfitting or underfitting problems."
   ]
  },
  {
   "cell_type": "code",
   "execution_count": 80,
   "id": "ed3332a9",
   "metadata": {},
   "outputs": [],
   "source": [
    "st = time.time() # We record the start time"
   ]
  },
  {
   "cell_type": "code",
   "execution_count": 81,
   "id": "789ccea5",
   "metadata": {},
   "outputs": [],
   "source": [
    "param_grid = {\n",
    "    'hidden_layer_sizes': [(20,20), (20,20,20)],\n",
    "    'activation': ['tanh'],\n",
    "    'alpha': [0.0001,0.001]\n",
    "}"
   ]
  },
  {
   "cell_type": "markdown",
   "id": "c0174bfe",
   "metadata": {},
   "source": [
    "We initialize a grid of parameter values that will be used by GridSearchCV to find the optimal hyperparameter values. The parameters we are focusing on for the MLP Classifier are the size (and count) of hidden layers and the alpha value."
   ]
  },
  {
   "cell_type": "code",
   "execution_count": 82,
   "id": "ff814e0d",
   "metadata": {
    "scrolled": true
   },
   "outputs": [
    {
     "name": "stdout",
     "output_type": "stream",
     "text": [
      "Fitting 5 folds for each of 4 candidates, totalling 20 fits\n",
      "Improved score:  0.8349331333583303\n",
      "Improved parameters:  {'activation': 'tanh', 'alpha': 0.001, 'hidden_layer_sizes': (20, 20)}\n"
     ]
    }
   ],
   "source": [
    "gridSearch = GridSearchCV(MLPClassifier(max_iter=500), \n",
    "                          param_grid, \n",
    "                          cv=5,\n",
    "                          n_jobs=-1,  #used to marshall all available CPUs\n",
    "                          verbose=4\n",
    "                         )\n",
    "\n",
    "gridSearch.fit(X_train_encoded_norm,y_train_encoded.values.ravel())\n",
    "\n",
    "print('Improved score: ', gridSearch.best_score_)\n",
    "print('Improved parameters: ', gridSearch.best_params_)"
   ]
  },
  {
   "cell_type": "code",
   "execution_count": 83,
   "id": "44246608",
   "metadata": {},
   "outputs": [
    {
     "name": "stdout",
     "output_type": "stream",
     "text": [
      "Train Accuracy:  0.85\n",
      "Test Accuracy:  0.84\n",
      "Train F1:  0.78\n",
      "Test F1:  0.77\n"
     ]
    }
   ],
   "source": [
    "bestMLPClassifier = gridSearch.best_estimator_\n",
    "\n",
    "y_pred_prob = bestMLPClassifier.predict_proba(X_test_encoded_norm)[:,1]\n",
    "y_pred_prob_train = bestMLPClassifier.predict_proba(X_train_encoded_norm)[:,1]\n",
    "y_pred_class = binarize([y_pred_prob],threshold=0.5)[0]\n",
    "y_pred_class_train = binarize([y_pred_prob_train],threshold=0.5)[0]\n",
    "confusion_test=confusion_matrix(y_test_encoded,y_pred_class)\n",
    "confusion_train=confusion_matrix(y_train_encoded,y_pred_class_train)\n",
    "\n",
    "print('Train Accuracy: ',metrics.accuracy_score(y_train_encoded,y_pred_class_train).round(2))\n",
    "print('Test Accuracy: ',metrics.accuracy_score(y_test_encoded,y_pred_class).round(2))\n",
    "print('Train F1: ',metrics.f1_score(y_train_encoded,y_pred_class_train).round(2))\n",
    "print('Test F1: ', metrics.f1_score(y_test_encoded,y_pred_class).round(2))"
   ]
  },
  {
   "cell_type": "markdown",
   "id": "bb01d30e",
   "metadata": {},
   "source": [
    "There is no evidence of overfitting as the train and test accuracy values are similar (85% vs. 84%)"
   ]
  },
  {
   "cell_type": "code",
   "execution_count": 84,
   "id": "854bc5f7",
   "metadata": {},
   "outputs": [
    {
     "name": "stdout",
     "output_type": "stream",
     "text": [
      "1064.010610818863\n"
     ]
    }
   ],
   "source": [
    "et = time.time()\n",
    "runtime = et-st\n",
    "print(runtime)"
   ]
  },
  {
   "cell_type": "markdown",
   "id": "182c1ced",
   "metadata": {},
   "source": [
    "This model took around 1064 seconds to run"
   ]
  },
  {
   "cell_type": "markdown",
   "id": "63d5a466",
   "metadata": {},
   "source": [
    "# Model Results Evaluation\n",
    "\n",
    "Now that we have our final 5 model objects, we can evaluate their performance in detail to choose a winning model. This winning model will be analyzed further to understand the optimal probability threshold that can be set."
   ]
  },
  {
   "cell_type": "code",
   "execution_count": 85,
   "id": "db91c8c4",
   "metadata": {},
   "outputs": [
    {
     "data": {
      "text/plain": [
       "MLPClassifier(activation='tanh', alpha=0.001, hidden_layer_sizes=(20, 20),\n",
       "              max_iter=500)"
      ]
     },
     "execution_count": 85,
     "metadata": {},
     "output_type": "execute_result"
    }
   ],
   "source": [
    "bestLRModel # Logistic Regression\n",
    "knn # KNN\n",
    "bestClassTree # Decision Tree\n",
    "bestRandomTree # Random Forest\n",
    "bestMLPClassifier # MLP Classifier"
   ]
  },
  {
   "cell_type": "markdown",
   "id": "d743af82",
   "metadata": {},
   "source": [
    "> **Choosing best model** <a class=\"anchor\" id=\"first-model\"></a>\n",
    "<br>\n",
    ">Steps to Complete:<br>\n",
    ">1. Plot ROC Curve for each of the 5 models <br>\n",
    ">2. Choose the best model based on which has the highest AUC score."
   ]
  },
  {
   "cell_type": "code",
   "execution_count": 86,
   "id": "04121c18",
   "metadata": {},
   "outputs": [
    {
     "name": "stderr",
     "output_type": "stream",
     "text": [
      "C:\\Users\\theda\\anaconda3\\lib\\site-packages\\sklearn\\utils\\deprecation.py:87: FutureWarning: Function plot_roc_curve is deprecated; Function :func:`plot_roc_curve` is deprecated in 1.0 and will be removed in 1.2. Use one of the class methods: :meth:`sklearn.metric.RocCurveDisplay.from_predictions` or :meth:`sklearn.metric.RocCurveDisplay.from_estimator`.\n",
      "  warnings.warn(msg, category=FutureWarning)\n",
      "C:\\Users\\theda\\anaconda3\\lib\\site-packages\\sklearn\\utils\\deprecation.py:87: FutureWarning: Function plot_roc_curve is deprecated; Function :func:`plot_roc_curve` is deprecated in 1.0 and will be removed in 1.2. Use one of the class methods: :meth:`sklearn.metric.RocCurveDisplay.from_predictions` or :meth:`sklearn.metric.RocCurveDisplay.from_estimator`.\n",
      "  warnings.warn(msg, category=FutureWarning)\n",
      "C:\\Users\\theda\\anaconda3\\lib\\site-packages\\sklearn\\utils\\deprecation.py:87: FutureWarning: Function plot_roc_curve is deprecated; Function :func:`plot_roc_curve` is deprecated in 1.0 and will be removed in 1.2. Use one of the class methods: :meth:`sklearn.metric.RocCurveDisplay.from_predictions` or :meth:`sklearn.metric.RocCurveDisplay.from_estimator`.\n",
      "  warnings.warn(msg, category=FutureWarning)\n",
      "C:\\Users\\theda\\anaconda3\\lib\\site-packages\\sklearn\\utils\\deprecation.py:87: FutureWarning: Function plot_roc_curve is deprecated; Function :func:`plot_roc_curve` is deprecated in 1.0 and will be removed in 1.2. Use one of the class methods: :meth:`sklearn.metric.RocCurveDisplay.from_predictions` or :meth:`sklearn.metric.RocCurveDisplay.from_estimator`.\n",
      "  warnings.warn(msg, category=FutureWarning)\n",
      "C:\\Users\\theda\\anaconda3\\lib\\site-packages\\sklearn\\utils\\deprecation.py:87: FutureWarning: Function plot_roc_curve is deprecated; Function :func:`plot_roc_curve` is deprecated in 1.0 and will be removed in 1.2. Use one of the class methods: :meth:`sklearn.metric.RocCurveDisplay.from_predictions` or :meth:`sklearn.metric.RocCurveDisplay.from_estimator`.\n",
      "  warnings.warn(msg, category=FutureWarning)\n"
     ]
    },
    {
     "data": {
      "text/plain": [
       "<sklearn.metrics._plot.roc_curve.RocCurveDisplay at 0x247184f8be0>"
      ]
     },
     "execution_count": 86,
     "metadata": {},
     "output_type": "execute_result"
    },
    {
     "data": {
      "image/png": "[encoded data removed]",
      "text/plain": [
       "<Figure size 432x288 with 1 Axes>"
      ]
     },
     "metadata": {
      "needs_background": "light"
     },
     "output_type": "display_data"
    },
    {
     "data": {
      "image/png": "[encoded data removed]",
      "text/plain": [
       "<Figure size 432x288 with 1 Axes>"
      ]
     },
     "metadata": {
      "needs_background": "light"
     },
     "output_type": "display_data"
    },
    {
     "data": {
      "image/png": "[encoded data removed]",
      "text/plain": [
       "<Figure size 432x288 with 1 Axes>"
      ]
     },
     "metadata": {
      "needs_background": "light"
     },
     "output_type": "display_data"
    },
    {
     "data": {
      "image/png": "[encoded data removed]",
      "text/plain": [
       "<Figure size 432x288 with 1 Axes>"
      ]
     },
     "metadata": {
      "needs_background": "light"
     },
     "output_type": "display_data"
    },
    {
     "data": {
      "image/png": "[encoded data removed]",
      "text/plain": [
       "<Figure size 432x288 with 1 Axes>"
      ]
     },
     "metadata": {
      "needs_background": "light"
     },
     "output_type": "display_data"
    }
   ],
   "source": [
    "metrics.plot_roc_curve(bestLRModel,X_test_encoded_norm,y_test_encoded)\n",
    "metrics.plot_roc_curve(knn,X_test_encoded_norm,y_test_encoded)\n",
    "metrics.plot_roc_curve(bestClassTree,X_test_encoded,y_test_encoded)\n",
    "metrics.plot_roc_curve(bestRandomTree,X_test_encoded,y_test_encoded)\n",
    "metrics.plot_roc_curve(bestMLPClassifier,X_test_encoded_norm,y_test_encoded)"
   ]
  },
  {
   "cell_type": "markdown",
   "id": "7c4623de",
   "metadata": {},
   "source": [
    "Based on the AUC scores, we can conclude that the Random Forest model is the best (AUC = 0.93). However, it is also overfitting as evident in the train vs. test accuracy scores. \n",
    "\n",
    "Hence, we will select the MLPClassifier as the winning model (AUC = 0.90, which is the next highest), and will investigate its probability thresholds further."
   ]
  },
  {
   "cell_type": "markdown",
   "id": "e4ad291d",
   "metadata": {},
   "source": [
    "> **Choosing best probability threshold** <a class=\"anchor\" id=\"first-model\"></a>\n",
    "<br>\n",
    ">Steps to Complete:<br>\n",
    ">1. Obtain the performance measures (precision, recall, accuracy, etc) for various probability thresholds <br>\n",
    ">2. Choose the \"best\" probability threshold that maximizes business benefit"
   ]
  },
  {
   "cell_type": "code",
   "execution_count": 87,
   "id": "a21f9bba",
   "metadata": {},
   "outputs": [
    {
     "name": "stderr",
     "output_type": "stream",
     "text": [
      "C:\\Users\\theda\\anaconda3\\lib\\site-packages\\sklearn\\metrics\\_classification.py:1318: UndefinedMetricWarning: Precision is ill-defined and being set to 0.0 due to no predicted samples. Use `zero_division` parameter to control this behavior.\n",
      "  _warn_prf(average, modifier, msg_start, len(result))\n"
     ]
    },
    {
     "data": {
      "text/html": [
       "<div>\n",
       "<style scoped>\n",
       "    .dataframe tbody tr th:only-of-type {\n",
       "        vertical-align: middle;\n",
       "    }\n",
       "\n",
       "    .dataframe tbody tr th {\n",
       "        vertical-align: top;\n",
       "    }\n",
       "\n",
       "    .dataframe thead th {\n",
       "        text-align: right;\n",
       "    }\n",
       "</style>\n",
       "<table border=\"1\" class=\"dataframe\">\n",
       "  <thead>\n",
       "    <tr style=\"text-align: right;\">\n",
       "      <th></th>\n",
       "      <th>threshold</th>\n",
       "      <th>TP</th>\n",
       "      <th>TN</th>\n",
       "      <th>FP</th>\n",
       "      <th>FN</th>\n",
       "      <th>Precision</th>\n",
       "      <th>Recall</th>\n",
       "      <th>F1</th>\n",
       "      <th>Accuracy</th>\n",
       "    </tr>\n",
       "  </thead>\n",
       "  <tbody>\n",
       "    <tr>\n",
       "      <th>0</th>\n",
       "      <td>0.0</td>\n",
       "      <td>12582</td>\n",
       "      <td>0</td>\n",
       "      <td>21708</td>\n",
       "      <td>0</td>\n",
       "      <td>0.367</td>\n",
       "      <td>1.000</td>\n",
       "      <td>0.54</td>\n",
       "      <td>0.37</td>\n",
       "    </tr>\n",
       "    <tr>\n",
       "      <th>1</th>\n",
       "      <td>0.1</td>\n",
       "      <td>12097</td>\n",
       "      <td>10042</td>\n",
       "      <td>11666</td>\n",
       "      <td>485</td>\n",
       "      <td>0.509</td>\n",
       "      <td>0.961</td>\n",
       "      <td>0.67</td>\n",
       "      <td>0.65</td>\n",
       "    </tr>\n",
       "    <tr>\n",
       "      <th>2</th>\n",
       "      <td>0.2</td>\n",
       "      <td>11488</td>\n",
       "      <td>13876</td>\n",
       "      <td>7832</td>\n",
       "      <td>1094</td>\n",
       "      <td>0.595</td>\n",
       "      <td>0.913</td>\n",
       "      <td>0.72</td>\n",
       "      <td>0.74</td>\n",
       "    </tr>\n",
       "    <tr>\n",
       "      <th>3</th>\n",
       "      <td>0.3</td>\n",
       "      <td>10801</td>\n",
       "      <td>16479</td>\n",
       "      <td>5229</td>\n",
       "      <td>1781</td>\n",
       "      <td>0.674</td>\n",
       "      <td>0.858</td>\n",
       "      <td>0.75</td>\n",
       "      <td>0.80</td>\n",
       "    </tr>\n",
       "    <tr>\n",
       "      <th>4</th>\n",
       "      <td>0.4</td>\n",
       "      <td>10012</td>\n",
       "      <td>18194</td>\n",
       "      <td>3514</td>\n",
       "      <td>2570</td>\n",
       "      <td>0.740</td>\n",
       "      <td>0.796</td>\n",
       "      <td>0.77</td>\n",
       "      <td>0.82</td>\n",
       "    </tr>\n",
       "    <tr>\n",
       "      <th>5</th>\n",
       "      <td>0.5</td>\n",
       "      <td>9272</td>\n",
       "      <td>19363</td>\n",
       "      <td>2345</td>\n",
       "      <td>3310</td>\n",
       "      <td>0.798</td>\n",
       "      <td>0.737</td>\n",
       "      <td>0.77</td>\n",
       "      <td>0.84</td>\n",
       "    </tr>\n",
       "    <tr>\n",
       "      <th>6</th>\n",
       "      <td>0.6</td>\n",
       "      <td>8555</td>\n",
       "      <td>20087</td>\n",
       "      <td>1621</td>\n",
       "      <td>4027</td>\n",
       "      <td>0.841</td>\n",
       "      <td>0.680</td>\n",
       "      <td>0.75</td>\n",
       "      <td>0.84</td>\n",
       "    </tr>\n",
       "    <tr>\n",
       "      <th>7</th>\n",
       "      <td>0.7</td>\n",
       "      <td>7559</td>\n",
       "      <td>20777</td>\n",
       "      <td>931</td>\n",
       "      <td>5023</td>\n",
       "      <td>0.890</td>\n",
       "      <td>0.601</td>\n",
       "      <td>0.72</td>\n",
       "      <td>0.83</td>\n",
       "    </tr>\n",
       "    <tr>\n",
       "      <th>8</th>\n",
       "      <td>0.8</td>\n",
       "      <td>6336</td>\n",
       "      <td>21310</td>\n",
       "      <td>398</td>\n",
       "      <td>6246</td>\n",
       "      <td>0.941</td>\n",
       "      <td>0.504</td>\n",
       "      <td>0.66</td>\n",
       "      <td>0.81</td>\n",
       "    </tr>\n",
       "    <tr>\n",
       "      <th>9</th>\n",
       "      <td>0.9</td>\n",
       "      <td>5179</td>\n",
       "      <td>21610</td>\n",
       "      <td>98</td>\n",
       "      <td>7403</td>\n",
       "      <td>0.981</td>\n",
       "      <td>0.412</td>\n",
       "      <td>0.58</td>\n",
       "      <td>0.78</td>\n",
       "    </tr>\n",
       "    <tr>\n",
       "      <th>10</th>\n",
       "      <td>1.0</td>\n",
       "      <td>0</td>\n",
       "      <td>21708</td>\n",
       "      <td>0</td>\n",
       "      <td>12582</td>\n",
       "      <td>0.000</td>\n",
       "      <td>0.000</td>\n",
       "      <td>0.00</td>\n",
       "      <td>0.63</td>\n",
       "    </tr>\n",
       "  </tbody>\n",
       "</table>\n",
       "</div>"
      ],
      "text/plain": [
       "    threshold     TP     TN     FP     FN  Precision  Recall    F1  Accuracy\n",
       "0         0.0  12582      0  21708      0      0.367   1.000  0.54      0.37\n",
       "1         0.1  12097  10042  11666    485      0.509   0.961  0.67      0.65\n",
       "2         0.2  11488  13876   7832   1094      0.595   0.913  0.72      0.74\n",
       "3         0.3  10801  16479   5229   1781      0.674   0.858  0.75      0.80\n",
       "4         0.4  10012  18194   3514   2570      0.740   0.796  0.77      0.82\n",
       "5         0.5   9272  19363   2345   3310      0.798   0.737  0.77      0.84\n",
       "6         0.6   8555  20087   1621   4027      0.841   0.680  0.75      0.84\n",
       "7         0.7   7559  20777    931   5023      0.890   0.601  0.72      0.83\n",
       "8         0.8   6336  21310    398   6246      0.941   0.504  0.66      0.81\n",
       "9         0.9   5179  21610     98   7403      0.981   0.412  0.58      0.78\n",
       "10        1.0      0  21708      0  12582      0.000   0.000  0.00      0.63"
      ]
     },
     "execution_count": 87,
     "metadata": {},
     "output_type": "execute_result"
    }
   ],
   "source": [
    "class_perf_measures(bestMLPClassifier,X_test_encoded_norm,y_test_encoded)"
   ]
  },
  {
   "cell_type": "markdown",
   "id": "18985a62",
   "metadata": {},
   "source": [
    "In this scenario, false negatives would be problematic for the business. This is because if we say that a customer will cancel a booking but they don't, it's acceptable. However, if we say that the customer will not cancel a booking but they do, it causes risk and potential loss of revenue due to the misclassified prediction.\n",
    "\n",
    "The best probability threshold seems to be 0.3, as it results in a Recall of 0.858 (1781 False Negatives), with an accuracy of 0.80 (that is still somewhat close to the best accuracy). This threshold will ensure that we have an accurate model that also focuses on reducing false negatives, thereby bringing benefits to the business.\n",
    "\n",
    "**Minimum Required Data**\n",
    "\n",
    "The attributes that we will need for this model to perform optimally are:\n",
    "\n",
    "- Lead Time, Stay in Weekend Night, Stay in Week Night, # Adults, # Total Children, Total Bookings, Previous Cancellations (to calculate Cancellation Rate), ADR, # of Parking, # of Special Requests, # of Booking Changes\n",
    "\n",
    "\n",
    "- Arrival Month, Assigned Room Type, Reserved Room Type (to calculate change in room status), Deposit Type, Agent, Customer Type\n",
    "\n",
    "**Run Time**\n",
    "\n",
    "The model took 1064 seconds (around 18 minutes) to run from start to finish.\n",
    "\n",
    "\n",
    "It is difficult to obtain the feature importances through the MLPClassifier, however we could improve the accuracy of the random forest model (to eliminate overfitting) and obtain the feature importances through it."
   ]
  },
  {
   "cell_type": "markdown",
   "id": "66c3ac4c",
   "metadata": {},
   "source": [
    "# Recommendations\n",
    "\n",
    "Our recommendations to the business"
   ]
  },
  {
   "cell_type": "markdown",
   "id": "35f394ff",
   "metadata": {},
   "source": [
    "- Using this model, I would recommend first beginning with a validation exercise to ensure that the model output conforms to what is actually happening on the ground. This validation exercise will ensure that all stakeholders are convinced of the performance of this model.\n",
    "\n",
    "\n",
    "- The business should test the model for some hotel locations so that they can start to build on their strategy of how they can monetize the rooms that are likely to get canceled. Such an exercise will not only help to bring in more revenue, but will also help in improving model performance further.\n",
    "\n",
    "\n",
    "- In terms of data, it would be useful to retrieve a few more data points (if available):\n",
    "    - Rewards Member (is the customer a member of the rewards program?)\n",
    "    - First Booking Date (the date the customer first made a booking with the hotel, to understand loyalty)\n",
    "    - Customer Lifetime Value (a total sum of the amount that the customer has spent for their stay, in hotel purchases (food / bev), etc.)"
   ]
  }
 ],
 "metadata": {
  "kernelspec": {
   "display_name": "Python 3 (ipykernel)",
   "language": "python",
   "name": "python3"
  },
  "language_info": {
   "codemirror_mode": {
    "name": "ipython",
    "version": 3
   },
   "file_extension": ".py",
   "mimetype": "text/x-python",
   "name": "python",
   "nbconvert_exporter": "python",
   "pygments_lexer": "ipython3",
   "version": "3.9.12"
  }
 },
 "nbformat": 4,
 "nbformat_minor": 5
}
